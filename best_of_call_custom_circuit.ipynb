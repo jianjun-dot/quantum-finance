{
 "cells": [
  {
   "cell_type": "markdown",
   "metadata": {},
   "source": [
    "## build custom circuits"
   ]
  },
  {
   "cell_type": "code",
   "execution_count": 16,
   "metadata": {},
   "outputs": [
    {
     "name": "stdout",
     "output_type": "stream",
     "text": [
      "0.09817477042468103\n",
      "4\n",
      "2\n",
      "1\n"
     ]
    },
    {
     "data": {
      "text/html": [
       "<pre style=\"word-wrap: normal;white-space: pre;background: #fff0;line-height: 1.1;font-family: &quot;Courier New&quot;,Courier,monospace\">                         ┌───┐                                     \n",
       "                model_0: ┤ X ├─────■───────────────────────────────\n",
       "                         ├───┤     │                               \n",
       "                model_1: ┤ X ├─────┼──────────■────────────────────\n",
       "                         ├───┤     │          │                    \n",
       "                model_2: ┤ X ├─────┼──────────┼──────────■─────────\n",
       "                         └───┘┌────┴────┐┌────┴────┐┌────┴─────┐┌─┐\n",
       "              objective: ─────┤ Ry(π/4) ├┤ Ry(π/8) ├┤ Ry(π/16) ├┤M├\n",
       "                              └─────────┘└─────────┘└──────────┘└╥┘\n",
       "objective_measurement: 1/════════════════════════════════════════╩═\n",
       "                                                                 0 </pre>"
      ],
      "text/plain": [
       "                         ┌───┐                                     \n",
       "                model_0: ┤ X ├─────■───────────────────────────────\n",
       "                         ├───┤     │                               \n",
       "                model_1: ┤ X ├─────┼──────────■────────────────────\n",
       "                         ├───┤     │          │                    \n",
       "                model_2: ┤ X ├─────┼──────────┼──────────■─────────\n",
       "                         └───┘┌────┴────┐┌────┴────┐┌────┴─────┐┌─┐\n",
       "              objective: ─────┤ Ry(π/4) ├┤ Ry(π/8) ├┤ Ry(π/16) ├┤M├\n",
       "                              └─────────┘└─────────┘└──────────┘└╥┘\n",
       "objective_measurement: 1/════════════════════════════════════════╩═\n",
       "                                                                 0 "
      ]
     },
     "execution_count": 16,
     "metadata": {},
     "output_type": "execute_result"
    }
   ],
   "source": [
    "from qiskit import QuantumCircuit, QuantumRegister, ClassicalRegister\n",
    "import numpy as np\n",
    "num_uncertainty_qubits = 3\n",
    "\n",
    "model_register = QuantumRegister(num_uncertainty_qubits, 'model')\n",
    "objective_register = QuantumRegister(1, 'objective')\n",
    "objective_measurement_register = ClassicalRegister(1, 'objective_measurement')\n",
    "\n",
    "\n",
    "test_circuit = QuantumCircuit(model_register, objective_register, objective_measurement_register)\n",
    "\n",
    "num = 7\n",
    "\n",
    "binary_num = bin(num)[2:].zfill(num_uncertainty_qubits)\n",
    "\n",
    "step = (np.pi/4) / (2**num_uncertainty_qubits)\n",
    "print(step)\n",
    "\n",
    "for i in range(num_uncertainty_qubits):\n",
    "    if binary_num[i] == '1':\n",
    "        test_circuit.x(model_register[i])\n",
    "\n",
    "for i in range(num_uncertainty_qubits):\n",
    "    print(2**(num_uncertainty_qubits-i-1))\n",
    "    test_circuit.cry(step*2**(num_uncertainty_qubits-i), model_register[i], objective_register[0])\n",
    "        \n",
    "test_circuit.measure(objective_register, objective_measurement_register)\n",
    "test_circuit.draw()\n",
    "\n"
   ]
  },
  {
   "cell_type": "code",
   "execution_count": 18,
   "metadata": {},
   "outputs": [
    {
     "name": "stdout",
     "output_type": "stream",
     "text": [
      "{'1': 4077, '0': 5923}\n",
      "7.05441667324314\n"
     ]
    },
    {
     "name": "stderr",
     "output_type": "stream",
     "text": [
      "/tmp/ipykernel_2483455/2897627190.py:4: DeprecationWarning: The function ``qiskit.execute_function.execute()`` is deprecated as of qiskit 0.46.0. It will be removed in the Qiskit 1.0 release. This function combines ``transpile`` and ``backend.run``, which is covered by ``Sampler`` :mod:`~qiskit.primitives`. Alternatively, you can also run :func:`.transpile` followed by ``backend.run()``.\n",
      "  job = execute(test_circuit, backend, shots=10000)\n"
     ]
    }
   ],
   "source": [
    "from qiskit import Aer, execute\n",
    "\n",
    "backend = Aer.get_backend('qasm_simulator')\n",
    "job = execute(test_circuit, backend, shots=10000)\n",
    "result = job.result()\n",
    "counts = result.get_counts()\n",
    "print(counts)\n",
    "\n",
    "print(np.arcsin(np.sqrt(counts['1']/10000))/step)"
   ]
  },
  {
   "cell_type": "code",
   "execution_count": null,
   "metadata": {},
   "outputs": [],
   "source": []
  }
 ],
 "metadata": {
  "kernelspec": {
   "display_name": "qfinance",
   "language": "python",
   "name": "python3"
  },
  "language_info": {
   "codemirror_mode": {
    "name": "ipython",
    "version": 3
   },
   "file_extension": ".py",
   "mimetype": "text/x-python",
   "name": "python",
   "nbconvert_exporter": "python",
   "pygments_lexer": "ipython3",
   "version": "3.11.7"
  }
 },
 "nbformat": 4,
 "nbformat_minor": 2
}
