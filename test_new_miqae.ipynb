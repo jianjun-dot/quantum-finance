{
 "cells": [
  {
   "cell_type": "code",
   "execution_count": 1,
   "metadata": {},
   "outputs": [],
   "source": [
    "import matplotlib.pyplot as plt\n",
    "\n",
    "%matplotlib inline\n",
    "import numpy as np\n",
    "\n",
    "from qiskit import QuantumCircuit\n",
    "from qiskit_algorithms import IterativeAmplitudeEstimation, EstimationProblem\n",
    "from qiskit.circuit.library import LinearAmplitudeFunction\n",
    "from qiskit_aer.primitives import Sampler\n",
    "from qiskit_finance.circuit.library import LogNormalDistribution\n",
    "\n"
   ]
  },
  {
   "cell_type": "markdown",
   "metadata": {},
   "source": [
    "# Uncertainty Model\n",
    "This concerns the probability function. \n",
    "\n",
    "We first bound it in the interval $[low, high]$\n",
    "We then choose how many qubits $n$ to use, giving us $2^n$ discrete grid points\n",
    "We perform the following upload\n",
    "$$\n",
    "\\ket{0}_n \\mapsto \\ket{\\psi}_n =\\sum_{i=0}^{2^n-1}\\sqrt{p^i}\\ket{i}\n",
    "$$\n",
    "\n",
    "We define the affine mapping between the bounds and the discrete values of our measurements\n",
    "$$\n",
    "\\{0,\\dots, 2^n-1\\} \\ni i \\mapsto \\frac{high -low}{2^n-1}*i + low \\in [low, high]\n",
    "$$"
   ]
  },
  {
   "cell_type": "code",
   "execution_count": 2,
   "metadata": {},
   "outputs": [],
   "source": [
    "# number of qubits to represent the uncertainty for our probability distribution\n",
    "num_uncertainty_qubits = 3\n",
    "\n",
    "# parameters for considered random distribution\n",
    "S = 2.0  # initial spot price\n",
    "vol = 0.4  # volatility of 40%\n",
    "r = 0.05  # annual interest rate of 4%\n",
    "T = 40 / 365  # 40 days to maturity\n",
    "\n",
    "# resulting parameters for log-normal distribution\n",
    "mu = (r - 0.5 * vol**2) * T + np.log(S)\n",
    "sigma = vol * np.sqrt(T)\n",
    "mean = np.exp(mu + sigma**2 / 2)\n",
    "variance = (np.exp(sigma**2) - 1) * np.exp(2 * mu + sigma**2)\n",
    "stddev = np.sqrt(variance)\n",
    "\n",
    "# lowest and highest value considered for the spot price; in between, an equidistant discretization is considered.\n",
    "low = np.maximum(0, mean - 3 * stddev)\n",
    "high = mean + 3 * stddev\n",
    "\n",
    "uncertainty_model = LogNormalDistribution(\n",
    "    num_uncertainty_qubits, mu=mu, sigma=sigma**2, bounds=(low, high)\n",
    ")\n",
    "\n",
    "# alternatively, this uncertainty model is trained using qGAN"
   ]
  },
  {
   "cell_type": "code",
   "execution_count": 3,
   "metadata": {},
   "outputs": [
    {
     "data": {
      "text/html": [
       "<pre style=\"word-wrap: normal;white-space: pre;background: #fff0;line-height: 1.1;font-family: &quot;Courier New&quot;,Courier,monospace\">        ┌───────┐ ░ ┌─┐         \n",
       "   q_0: ┤0      ├─░─┤M├─────────\n",
       "        │       │ ░ └╥┘┌─┐      \n",
       "   q_1: ┤1 P(X) ├─░──╫─┤M├──────\n",
       "        │       │ ░  ║ └╥┘┌─┐   \n",
       "   q_2: ┤2      ├─░──╫──╫─┤M├───\n",
       "        └───────┘ ░  ║  ║ └╥┘┌─┐\n",
       "   q_3: ──────────░──╫──╫──╫─┤M├\n",
       "                  ░  ║  ║  ║ └╥┘\n",
       "meas: 4/═════════════╩══╩══╩══╩═\n",
       "                     0  1  2  3 </pre>"
      ],
      "text/plain": [
       "        ┌───────┐ ░ ┌─┐         \n",
       "   q_0: ┤0      ├─░─┤M├─────────\n",
       "        │       │ ░ └╥┘┌─┐      \n",
       "   q_1: ┤1 P(X) ├─░──╫─┤M├──────\n",
       "        │       │ ░  ║ └╥┘┌─┐   \n",
       "   q_2: ┤2      ├─░──╫──╫─┤M├───\n",
       "        └───────┘ ░  ║  ║ └╥┘┌─┐\n",
       "   q_3: ──────────░──╫──╫──╫─┤M├\n",
       "                  ░  ║  ║  ║ └╥┘\n",
       "meas: 4/═════════════╩══╩══╩══╩═\n",
       "                     0  1  2  3 "
      ]
     },
     "execution_count": 3,
     "metadata": {},
     "output_type": "execute_result"
    }
   ],
   "source": [
    "from qiskit import QuantumCircuit, execute, Aer\n",
    "my_circ = QuantumCircuit(4)\n",
    "my_circ.append(uncertainty_model, range(3))\n",
    "my_circ.measure_all()   \n",
    "my_circ.draw()"
   ]
  },
  {
   "cell_type": "markdown",
   "metadata": {},
   "source": [
    "# Payoff Function\n",
    "We have maturity price $S_T$, and strike price $K$. \n",
    "We need a comparator that flips the ancilla qubit from $\\ket{0}$ to $\\ket{1}$ if $S_T> K$\n",
    "We have a rescaling factor $c_{approx}\\in [0,1]$ and $x\\in [0,1]$ and our desired probability is\n",
    "$$\n",
    "\\sin^2\\left(\\frac{\\pi}{2}\\cdot c_{approx} \\cdot (x-\\frac{1}{2})+\\frac{\\pi}{4}\\right) \\approx \\frac{\\pi}{2}\\cdot c_{approx} \\cdot \\left(x-\\frac{1}{2}\\right) + \\frac{1}{2}\n",
    "$$\n",
    "for small $c_{approx}$ which is a first order approximation.\n",
    "\n",
    "We can construct an operator that does the following\n",
    "$$\n",
    "\\ket{x}\\ket{0} \\mapsto \\ket{x} \\left(\\cos(a\\cdot x + b)\\ket{0} + \\sin(a\\cdot x + b)\\ket{1}\\right)\n",
    "$$\n",
    "\n",
    "\n",
    "\n"
   ]
  },
  {
   "cell_type": "code",
   "execution_count": 4,
   "metadata": {},
   "outputs": [
    {
     "data": {
      "text/html": [
       "<pre style=\"word-wrap: normal;white-space: pre;background: #fff0;line-height: 1.1;font-family: &quot;Courier New&quot;,Courier,monospace\">     ┌───────┐┌────┐\n",
       "q_0: ┤0      ├┤0   ├\n",
       "     │       ││    │\n",
       "q_1: ┤1 P(X) ├┤1   ├\n",
       "     │       ││    │\n",
       "q_2: ┤2      ├┤2   ├\n",
       "     └───────┘│    │\n",
       "q_3: ─────────┤3 F ├\n",
       "              │    │\n",
       "q_4: ─────────┤4   ├\n",
       "              │    │\n",
       "q_5: ─────────┤5   ├\n",
       "              │    │\n",
       "q_6: ─────────┤6   ├\n",
       "              └────┘</pre>"
      ],
      "text/plain": [
       "     ┌───────┐┌────┐\n",
       "q_0: ┤0      ├┤0   ├\n",
       "     │       ││    │\n",
       "q_1: ┤1 P(X) ├┤1   ├\n",
       "     │       ││    │\n",
       "q_2: ┤2      ├┤2   ├\n",
       "     └───────┘│    │\n",
       "q_3: ─────────┤3 F ├\n",
       "              │    │\n",
       "q_4: ─────────┤4   ├\n",
       "              │    │\n",
       "q_5: ─────────┤5   ├\n",
       "              │    │\n",
       "q_6: ─────────┤6   ├\n",
       "              └────┘"
      ]
     },
     "execution_count": 4,
     "metadata": {},
     "output_type": "execute_result"
    }
   ],
   "source": [
    "# set the strike price (should be within the low and the high value of the uncertainty)\n",
    "strike_price = 1.896\n",
    "\n",
    "# set the approximation scaling for the payoff function\n",
    "c_approx = 0.125\n",
    "\n",
    "# setup piecewise linear objective fcuntion\n",
    "breakpoints = [low, strike_price] \n",
    "# low is the lower bound, strike price is where our payoff function starts to increase\n",
    "slopes = [0, 1]\n",
    "# can be float or list of floats.\n",
    "# for list of floats, the floats are the slopes of the individual linear functions\n",
    "\n",
    "offsets = [0, 0]\n",
    "# the offsets of each linear function\n",
    "f_min = 0\n",
    "# minimum y value\n",
    "f_max = high - strike_price\n",
    "# maximum y value\n",
    "\n",
    "european_call_objective = LinearAmplitudeFunction(\n",
    "    num_uncertainty_qubits,\n",
    "    slopes,\n",
    "    offsets,\n",
    "    domain=(low, high),\n",
    "    image=(f_min, f_max),\n",
    "    breakpoints=breakpoints,\n",
    "    rescaling_factor=c_approx,\n",
    ")\n",
    "\n",
    "# construct A operator for QAE for the payoff function by\n",
    "# composing the uncertainty model and the objective\n",
    "num_qubits = european_call_objective.num_qubits\n",
    "european_call = QuantumCircuit(num_qubits)\n",
    "european_call.append(uncertainty_model, range(num_uncertainty_qubits))\n",
    "european_call.append(european_call_objective, range(num_qubits))\n",
    "\n",
    "# draw the circuit\n",
    "european_call.draw()"
   ]
  },
  {
   "cell_type": "code",
   "execution_count": 5,
   "metadata": {},
   "outputs": [
    {
     "name": "stdout",
     "output_type": "stream",
     "text": [
      "exact expected value:\t0.1623\n",
      "exact delta value:   \t0.8098\n"
     ]
    }
   ],
   "source": [
    "# evaluate exact expected value (normalized to the [0, 1] interval)\n",
    "x = uncertainty_model.values\n",
    "y = np.maximum(0, x - strike_price)\n",
    "exact_value = np.dot(uncertainty_model.probabilities, y)\n",
    "exact_delta = sum(uncertainty_model.probabilities[x >= strike_price])\n",
    "print(\"exact expected value:\\t%.4f\" % exact_value)\n",
    "print(\"exact delta value:   \\t%.4f\" % exact_delta)"
   ]
  },
  {
   "cell_type": "code",
   "execution_count": 6,
   "metadata": {},
   "outputs": [
    {
     "name": "stdout",
     "output_type": "stream",
     "text": [
      "{1: 0.46, 0: 0.54}\n",
      "{'1': 0.46, '0': 0.54}\n",
      "{0: 0.35, 1: 0.65}\n",
      "{'0': 0.35, '1': 0.65}\n",
      "{0: 0.29, 1: 0.71}\n",
      "{'0': 0.29, '1': 0.71}\n",
      "{1: 0.68, 0: 0.32}\n",
      "{'1': 0.68, '0': 0.32}\n",
      "{1: 0.75, 0: 0.25}\n",
      "{'1': 0.75, '0': 0.25}\n",
      "{0: 0.4, 1: 0.6}\n",
      "{'0': 0.4, '1': 0.6}\n"
     ]
    }
   ],
   "source": [
    "from qiskit.utils import QuantumInstance\n",
    "from qiskit_aer import AerSimulator\n",
    "# from ModifiedIQAE.algorithms.amplitude_estimators.mod_iae import ModifiedIterativeAmplitudeEstimation\n",
    "from ModifiedIQAE.algorithms.amplitude_estimators.mod_iae_updated import ModifiedIterativeAmplitudeEstimation\n",
    "\n",
    "\n",
    "epsilon = 0.01\n",
    "alpha = 0.05\n",
    "\n",
    "problem = EstimationProblem(\n",
    "    state_preparation=european_call,\n",
    "    objective_qubits=[3],\n",
    "    post_processing=european_call_objective.post_processing,\n",
    ")\n",
    "\n",
    "# qi = QuantumInstance(backend=AerSimulator(), shots=100)\n",
    "# ae = ModifiedIterativeAmplitudeEstimation(\n",
    "#     epsilon_target=epsilon, alpha=alpha, quantum_instance=qi)\n",
    "sampler = Sampler(run_options={\"shots\": 100})\n",
    "ae = ModifiedIterativeAmplitudeEstimation(\n",
    "    epsilon_target=epsilon, alpha=alpha, sampler=sampler)\n",
    "result = ae.estimate(problem, shots=100)"
   ]
  },
  {
   "cell_type": "code",
   "execution_count": 7,
   "metadata": {},
   "outputs": [
    {
     "name": "stdout",
     "output_type": "stream",
     "text": [
      "3600\n"
     ]
    }
   ],
   "source": [
    "print(result.num_oracle_queries)"
   ]
  },
  {
   "cell_type": "code",
   "execution_count": 8,
   "metadata": {},
   "outputs": [
    {
     "name": "stdout",
     "output_type": "stream",
     "text": [
      "Exact value:        \t0.1623\n",
      "Estimated value:    \t0.1606\n",
      "Confidence interval:\t[0.1338, 0.1874]\n"
     ]
    }
   ],
   "source": [
    "conf_int = (\n",
    "    np.array(result.confidence_interval_processed)\n",
    ")\n",
    "print(\"Exact value:        \\t%.4f\" % exact_value)\n",
    "print(\n",
    "    \"Estimated value:    \\t%.4f\"\n",
    "    % (result.estimation_processed)\n",
    ")\n",
    "print(\"Confidence interval:\\t[%.4f, %.4f]\" % tuple(conf_int))"
   ]
  },
  {
   "cell_type": "code",
   "execution_count": null,
   "metadata": {},
   "outputs": [],
   "source": []
  },
  {
   "cell_type": "code",
   "execution_count": null,
   "metadata": {},
   "outputs": [],
   "source": []
  }
 ],
 "metadata": {
  "kernelspec": {
   "display_name": "qfinance",
   "language": "python",
   "name": "python3"
  },
  "language_info": {
   "codemirror_mode": {
    "name": "ipython",
    "version": 3
   },
   "file_extension": ".py",
   "mimetype": "text/x-python",
   "name": "python",
   "nbconvert_exporter": "python",
   "pygments_lexer": "ipython3",
   "version": "3.11.7"
  }
 },
 "nbformat": 4,
 "nbformat_minor": 2
}
