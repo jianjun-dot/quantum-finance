{
 "cells": [
  {
   "cell_type": "code",
   "execution_count": 6,
   "metadata": {},
   "outputs": [],
   "source": [
    "import numpy as np\n",
    "from qiskit_finance.circuit.library import LogNormalDistribution\n",
    "from scipy.integrate import quad\n",
    "from scipy.stats import lognorm"
   ]
  },
  {
   "cell_type": "markdown",
   "metadata": {},
   "source": [
    "# Vanilla Call options"
   ]
  },
  {
   "cell_type": "code",
   "execution_count": 13,
   "metadata": {},
   "outputs": [
    {
     "name": "stdout",
     "output_type": "stream",
     "text": [
      "Exact value:     \t0.16713122937760183\n",
      "Discrete value: \t0.16027265994646528\n",
      "Relative error:  \t4.1037030940763835 %\n"
     ]
    }
   ],
   "source": [
    "# number of qubits to represent the uncertainty for our probability distribution\n",
    "num_uncertainty_qubits = 3\n",
    "\n",
    "# parameters for considered random distribution\n",
    "S = 2.0  # initial spot price\n",
    "vol = 0.4  # volatility of 40%\n",
    "r = 0.05  # annual interest rate of 4%\n",
    "T = 40 / 365  # 40 days to maturity\n",
    "\n",
    "# resulting parameters for log-normal distribution\n",
    "mu = (r - 0.5 * vol**2) * T + np.log(S)\n",
    "sigma = vol * np.sqrt(T)\n",
    "mean = np.exp(mu + sigma**2 / 2)\n",
    "variance = (np.exp(sigma**2) - 1) * np.exp(2 * mu + sigma**2)\n",
    "stddev = np.sqrt(variance)\n",
    "\n",
    "# lowest and highest value considered for the spot price; in between, an equidistant discretization is considered.\n",
    "low = np.maximum(0, mean - 3 * stddev)\n",
    "high = mean + 3 * stddev\n",
    "\n",
    "uncertainty_model = LogNormalDistribution(\n",
    "    num_uncertainty_qubits, mu=mu, sigma=sigma**2, bounds=(low, high)\n",
    ")\n",
    "\n",
    "scale = np.exp(mu) \n",
    "\n",
    "def call_payoff(S_T, K, r, T):\n",
    "    return np.exp(-r * T) * max(S_T - K, 0)\n",
    "\n",
    "strike_price = 1.9\n",
    "# Integrating the call payoff function against the lognormal PDF from K to infinity\n",
    "continuous_expected_value, _ = quad(lambda S_T: call_payoff(S_T, strike_price, r, T) * lognorm.pdf(S_T, s=sigma, scale=scale), strike_price, np.inf)\n",
    "\n",
    "payoff = np.maximum(uncertainty_model.values - strike_price, 0)\n",
    "discrete_expected_value = np.dot(uncertainty_model.probabilities, payoff)\n",
    "\n",
    "print(\"Exact value:     \\t{}\".format(continuous_expected_value))\n",
    "print(\"Discrete value: \\t{}\".format(discrete_expected_value))\n",
    "print(\"Relative error:  \\t{} %\".format(((1 - discrete_expected_value / continuous_expected_value)*100)))"
   ]
  },
  {
   "cell_type": "markdown",
   "metadata": {},
   "source": [
    "# Basket Call"
   ]
  },
  {
   "cell_type": "code",
   "execution_count": 20,
   "metadata": {},
   "outputs": [],
   "source": [
    "import numpy as np\n",
    "from package.option_pricing import OptionPricing, OptionParams\n",
    "## define options\n",
    "import numpy as np\n",
    "from qiskit_finance.circuit.library import LogNormalDistribution\n",
    "# number of qubits per dimension to represent the uncertainty\n",
    "num_uncertainty_qubits = 3\n",
    "\n",
    "# parameters for considered random distribution\n",
    "S = 2.0  # initial spot price\n",
    "vol = 0.4  # volatility of 40%\n",
    "r = 0.04  # annual interest rate of 4%\n",
    "T = 40 / 365  # 40 days to maturity\n",
    "\n",
    "# resulting parameters for log-normal distribution\n",
    "mu = (r - 0.5 * vol**2) * T + np.log(S)\n",
    "sigma = vol * np.sqrt(T)\n",
    "mean = np.exp(mu + sigma**2 / 2)\n",
    "variance = (np.exp(sigma**2) - 1) * np.exp(2 * mu + sigma**2)\n",
    "stddev = np.sqrt(variance)\n",
    "\n",
    "# lowest and highest value considered for the spot price; in between, an equidistant discretization is considered.\n",
    "low = np.maximum(0, mean - 3 * stddev)\n",
    "high = mean + 3 * stddev\n",
    "\n",
    "# map to higher dimensional distribution\n",
    "# for simplicity assuming dimensions are independent and identically distributed)\n",
    "dimension = 2\n",
    "num_qubits = [num_uncertainty_qubits] * dimension\n",
    "low = low * np.ones(dimension)\n",
    "high = high * np.ones(dimension)\n",
    "mu = mu * np.ones(dimension)\n",
    "cov = sigma**2 * np.eye(dimension) # covariance matrix\n",
    "\n",
    "# construct circuit\n",
    "uncertainty_model = LogNormalDistribution(num_qubits=num_qubits, mu=mu, sigma=cov, bounds=list(zip(low, high)))\n",
    "\n",
    "sum_values = np.sum(uncertainty_model.values, axis=1)\n",
    "discrete_expected_value = np.dot(\n",
    "    uncertainty_model.probabilities[sum_values >= strike_price], \n",
    "    sum_values[sum_values >= strike_price] - strike_price\n",
    ")"
   ]
  },
  {
   "cell_type": "code",
   "execution_count": 21,
   "metadata": {},
   "outputs": [
    {
     "name": "stdout",
     "output_type": "stream",
     "text": [
      "Exact Expected value: 2.078926671761519\n",
      "Discrete Expected value: 2.114150038090828\n",
      "Relative error: -1.6943053743912584 %\n"
     ]
    }
   ],
   "source": [
    "import numpy as np\n",
    "\n",
    "def expected_value_basket_call(asset1_params, asset2_params, covariance_matrix, K, n_simulations=100000):\n",
    "    \"\"\"\n",
    "    Calculate the expected value of a basket call option using Monte Carlo simulation.\n",
    "\n",
    "    Parameters:\n",
    "    - asset1_params: dict with 'S', 'vol', 'r', 'T' for the first asset.\n",
    "    - asset2_params: dict with 'S', 'vol', 'r', 'T' for the second asset.\n",
    "    - covariance_matrix: 2x2 matrix representing the covariance between the assets.\n",
    "    - K: Strike price of the basket call option.\n",
    "    - n_simulations: Number of simulations to run (default is 100,000).\n",
    "\n",
    "    Returns:\n",
    "    - Expected value of the basket call option's payoff.\n",
    "    \"\"\"\n",
    "    np.random.seed(0)  # For reproducibility\n",
    "    \n",
    "    # Unpack parameters\n",
    "    S1, vol1, r1, T1 = asset1_params['S'], asset1_params['vol'], asset1_params['r'], asset1_params['T']\n",
    "    S2, vol2, r2, T2 = asset2_params['S'], asset2_params['vol'], asset2_params['r'], asset2_params['T']\n",
    "    \n",
    "    # Ensure same r and T for both assets (for simplicity)\n",
    "    r, T = r1, T1\n",
    "    \n",
    "    # Generate random numbers with the given covariance\n",
    "    z = np.random.multivariate_normal([0, 0], covariance_matrix, size=n_simulations)\n",
    "    \n",
    "    # Simulate future values for both assets\n",
    "    x1_T = S1 * np.exp((r - 0.5 * vol1**2) * T + vol1 * np.sqrt(T) * z[:, 0])\n",
    "    x2_T = S2 * np.exp((r - 0.5 * vol2**2) * T + vol2 * np.sqrt(T) * z[:, 1])\n",
    "    \n",
    "    # Compute payoffs for each simulation\n",
    "    payoffs = np.maximum(x1_T + x2_T - K, 0)\n",
    "    \n",
    "    # Compute the expected payoff and discount it back to present value\n",
    "    expected_value = np.mean(payoffs) * np.exp(-r * T)\n",
    "    \n",
    "    return expected_value\n",
    "\n",
    "# Example parameters and covariance matrix\n",
    "asset1_params = {'S': 2.0, 'vol': 0.4, 'r': 0.04, 'T': 40/365}\n",
    "asset2_params = {'S': 2.0, 'vol': 0.4, 'r': 0.04, 'T': 40/365}\n",
    "covariance_matrix = np.array([[0.16, 0.064], [0.064, 0.16]])  # Example covariance matrix\n",
    "K = 1.9  # Strike price\n",
    "\n",
    "# Calculate the expected value of the basket call\n",
    "expected_value = expected_value_basket_call(asset1_params, asset2_params, covariance_matrix, K)\n",
    "print(f\"Exact Expected value: {expected_value}\")\n",
    "print(f\"Discrete Expected value: {discrete_expected_value}\")\n",
    "print(f\"Relative error: {(1 - discrete_expected_value / expected_value) * 100} %\")\n"
   ]
  },
  {
   "cell_type": "code",
   "execution_count": null,
   "metadata": {},
   "outputs": [],
   "source": []
  }
 ],
 "metadata": {
  "kernelspec": {
   "display_name": "qfinance",
   "language": "python",
   "name": "python3"
  },
  "language_info": {
   "codemirror_mode": {
    "name": "ipython",
    "version": 3
   },
   "file_extension": ".py",
   "mimetype": "text/x-python",
   "name": "python",
   "nbconvert_exporter": "python",
   "pygments_lexer": "ipython3",
   "version": "3.11.5"
  }
 },
 "nbformat": 4,
 "nbformat_minor": 2
}
