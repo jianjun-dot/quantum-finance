{
 "cells": [
  {
   "cell_type": "markdown",
   "metadata": {},
   "source": [
    "## Vanilla call option"
   ]
  },
  {
   "cell_type": "code",
   "execution_count": 1,
   "metadata": {},
   "outputs": [],
   "source": [
    "from qfinance.option_pricing import OptionPricing, OptionParams\n",
    "\n",
    "\n",
    "## define options\n",
    "myOptionParams = OptionParams(num_uncertainty_qubits=3, option_type=\"call\")\n",
    "myOptionParams.add_variable(\n",
    "    {\n",
    "    'S': 2.0,  # initial spot price\n",
    "    'vol': 0.4 , # volatility of 40%\n",
    "    \"r\": 0.05,  # annual interest rate of 4%\n",
    "    \"T\": 40 / 365 , # 40 days to maturity\n",
    "    }\n",
    ")\n",
    "\n",
    "myOptionParams.set_strike_prices(1.9)\n",
    "myOptionPricer = OptionPricing(myOptionParams)"
   ]
  },
  {
   "cell_type": "code",
   "execution_count": 2,
   "metadata": {},
   "outputs": [
    {
     "name": "stdout",
     "output_type": "stream",
     "text": [
      "Estimated payoff: 0.20980999105102002\n",
      "Exact payoff: 0.21159950239984612\n",
      "Confidence interval: [0.19149785 0.22812213]\n"
     ]
    }
   ],
   "source": [
    "estimate, conf_int = myOptionPricer.estimate_expectation(epsilon=0.01)\n",
    "exact_expectation = myOptionPricer.compute_exact_expectation()\n",
    "print(f\"Estimated payoff: {estimate}\")\n",
    "print(f\"Exact payoff: {exact_expectation}\")\n",
    "print(f\"Confidence interval: {conf_int}\")"
   ]
  },
  {
   "cell_type": "markdown",
   "metadata": {},
   "source": [
    "## Basket call"
   ]
  },
  {
   "cell_type": "code",
   "execution_count": 3,
   "metadata": {},
   "outputs": [],
   "source": [
    "import numpy as np\n",
    "from qfinance.option_pricing import OptionPricing, OptionParams\n",
    "## define options\n",
    "myOptionParams = OptionParams(num_uncertainty_qubits=3, option_type=\"basket call\")\n",
    "myOptionParams.add_variable(\n",
    "    {\n",
    "    'S': 2.0,  # initial spot price\n",
    "    'vol': 0.4 , # volatility of 40%\n",
    "    \"r\": 0.05,  # annual interest rate of 4%\n",
    "    \"T\": 40 / 365 , # 40 days to maturity\n",
    "    }\n",
    ")\n",
    "myOptionParams.add_variable(\n",
    "    {\n",
    "    'S': 2.0,  # initial spot price\n",
    "    'vol': 0.4 , # volatility of 40%\n",
    "    \"r\": 0.05,  # annual interest rate of 4%\n",
    "    \"T\": 40 / 365 , # 40 days to maturity\n",
    "    }\n",
    ")\n",
    "\n",
    "correlation = 0.2\n",
    "\n",
    "myOptionParams.set_covariance_matrix(correlation)\n",
    "myOptionParams.set_strike_prices(3.5)\n",
    "\n",
    "myOptionPricer = OptionPricing(myOptionParams)\n"
   ]
  },
  {
   "cell_type": "code",
   "execution_count": 4,
   "metadata": {},
   "outputs": [
    {
     "name": "stdout",
     "output_type": "stream",
     "text": [
      "Estimated payoff: 0.49828918531555333\n",
      "Exact payoff: 0.493528637877214\n",
      "Confidence interval: [0.44115479 0.55542358]\n"
     ]
    }
   ],
   "source": [
    "estimate, conf_int = myOptionPricer.estimate_expectation(epsilon=0.01)\n",
    "exact_expectation = myOptionPricer.compute_exact_expectation()\n",
    "print(f\"Estimated payoff: {estimate}\")\n",
    "print(f\"Exact payoff: {exact_expectation}\")\n",
    "print(f\"Confidence interval: {conf_int}\")"
   ]
  },
  {
   "cell_type": "markdown",
   "metadata": {},
   "source": [
    "## Call-on-max"
   ]
  },
  {
   "cell_type": "code",
   "execution_count": 5,
   "metadata": {},
   "outputs": [],
   "source": [
    "import numpy as np\n",
    "from qfinance.option_pricing import OptionPricing, OptionParams\n",
    "## define options\n",
    "myOptionParams = OptionParams(num_uncertainty_qubits=3, option_type=\"call-on-max\")\n",
    "myOptionParams.add_variable(\n",
    "    {\n",
    "    'S': 2.0,  # initial spot price\n",
    "    'vol': 0.4 , # volatility of 40%\n",
    "    \"r\": 0.05,  # annual interest rate of 4%\n",
    "    \"T\": 40 / 365 , # 40 days to maturity\n",
    "    }\n",
    ")\n",
    "myOptionParams.add_variable(\n",
    "    {\n",
    "    'S': 2.0,  # initial spot price\n",
    "    'vol': 0.4 , # volatility of 40%\n",
    "    \"r\": 0.05,  # annual interest rate of 4%\n",
    "    \"T\": 40 / 365 , # 40 days to maturity\n",
    "    }\n",
    ")\n",
    "correlation = 0.2\n",
    "\n",
    "myOptionParams.set_covariance_matrix(correlation)\n",
    "myOptionParams.set_strike_prices(1.896)\n",
    "\n",
    "myOptionPricer = OptionPricing(myOptionParams)"
   ]
  },
  {
   "cell_type": "code",
   "execution_count": 6,
   "metadata": {},
   "outputs": [
    {
     "name": "stdout",
     "output_type": "stream",
     "text": [
      "Estimated payoff: 0.325271956859622\n",
      "Exact payoff: 0.34859598587273244\n",
      "Confidence interval: [0.27131258 0.37923133]\n"
     ]
    }
   ],
   "source": [
    "estimate, conf_int = myOptionPricer.estimate_expectation(epsilon=0.01)\n",
    "exact_expectation = myOptionPricer.compute_exact_expectation()\n",
    "print(f\"Estimated payoff: {estimate}\")\n",
    "print(f\"Exact payoff: {exact_expectation}\")\n",
    "print(f\"Confidence interval: {conf_int}\")"
   ]
  },
  {
   "cell_type": "markdown",
   "metadata": {},
   "source": [
    "## Call-on-min"
   ]
  },
  {
   "cell_type": "code",
   "execution_count": 1,
   "metadata": {},
   "outputs": [
    {
     "name": "stdout",
     "output_type": "stream",
     "text": [
      "{'individual_params': [{'S': 2.0, 'vol': 0.4, 'r': 0.05, 'T': 0.1095890410958904, 'mu': 0.6898595093270685, 'sigma': 0.13241694217637887, 'mean': 2.0109889834186916, 'std': 0.26746058155908886, 'low': 1.208607238741425, 'high': 2.813370728095958}, {'S': 1.7, 'vol': 0.4, 'r': 0.05, 'T': 0.1095890410958904, 'mu': 0.5273405798292936, 'sigma': 0.13241694217637887, 'mean': 1.7093406359058878, 'std': 0.22734149432522555, 'low': 1.027316152930211, 'high': 2.3913651188815646}], 'cov': array([[0.13241694, 0.02648339],\n",
      "       [0.02648339, 0.13241694]]), 'num_uncertainty_qubits': 3, 'strike_prices': [1.896], 'option_type': 'call-on-min'}\n"
     ]
    }
   ],
   "source": [
    "import numpy as np\n",
    "from qfinance.option_pricing import OptionPricing, OptionParams\n",
    "## define options\n",
    "myOptionParams = OptionParams(num_uncertainty_qubits=3, option_type=\"call-on-min\")\n",
    "myOptionParams.add_variable(\n",
    "    {\n",
    "    'S': 2.0,  # initial spot price\n",
    "    'vol': 0.4 , # volatility of 40%\n",
    "    \"r\": 0.05,  # annual interest rate of 4%\n",
    "    \"T\": 40 / 365 , # 40 days to maturity\n",
    "    }\n",
    ")\n",
    "myOptionParams.add_variable(\n",
    "    {\n",
    "    'S': 1.7,  # initial spot price\n",
    "    'vol': 0.4 , # volatility of 40%\n",
    "    \"r\": 0.05,  # annual interest rate of 4%\n",
    "    \"T\": 40 / 365 , # 40 days to maturity\n",
    "    }\n",
    ")\n",
    "\n",
    "correlation = 0.2\n",
    "myOptionParams.set_covariance_matrix(correlation)\n",
    "myOptionParams.set_strike_prices(1.896)\n",
    "# print(myOptionParams)\n",
    "myOptionPricer = OptionPricing(myOptionParams)"
   ]
  },
  {
   "cell_type": "code",
   "execution_count": 4,
   "metadata": {},
   "outputs": [
    {
     "name": "stdout",
     "output_type": "stream",
     "text": [
      "Estimated payoff: 0.4065973888110509\n",
      "Exact payoff: 0.40741886364135016\n",
      "Confidence interval: [0.39236429 0.42083049]\n"
     ]
    }
   ],
   "source": [
    "estimate, conf_int = myOptionPricer.estimate_expectation(epsilon=0.01)\n",
    "exact_expectation = myOptionPricer.compute_exact_expectation()\n",
    "print(f\"Estimated payoff: {estimate}\")\n",
    "print(f\"Exact payoff: {exact_expectation}\")\n",
    "print(f\"Confidence interval: {conf_int}\")"
   ]
  },
  {
   "cell_type": "markdown",
   "metadata": {},
   "source": [
    "# Spread Call"
   ]
  },
  {
   "cell_type": "code",
   "execution_count": 1,
   "metadata": {},
   "outputs": [],
   "source": [
    "import numpy as np\n",
    "from qfinance.option_pricing import OptionPricing, OptionParams\n",
    "## define options\n",
    "myOptionParams = OptionParams(num_uncertainty_qubits=3, option_type=\"spread call\")\n",
    "myOptionParams.add_variable(\n",
    "    {\n",
    "    'S': 0.5,  \n",
    "    'vol': 0.5 , \n",
    "    \"r\": 0.04,  \n",
    "    \"T\": 40 / 365 , \n",
    "    }\n",
    ")\n",
    "myOptionParams.add_variable(\n",
    "    {\n",
    "    'S': 0.5,  \n",
    "    'vol': 0.5 , \n",
    "    \"r\": 0.04,  \n",
    "    \"T\": 40 / 365 , \n",
    "    }\n",
    ")\n",
    "\n",
    "correlation = 0.2\n",
    "myOptionParams.set_covariance_matrix(correlation)\n",
    "myOptionParams.set_strike_prices(0.08)\n",
    "\n",
    "myOptionPricer = OptionPricing(myOptionParams)"
   ]
  },
  {
   "cell_type": "code",
   "execution_count": 2,
   "metadata": {},
   "outputs": [
    {
     "name": "stdout",
     "output_type": "stream",
     "text": [
      "Estimated payoff: 0.03608231183702158\n",
      "Exact payoff: 0.045862734626276075\n",
      "Confidence interval: [0.01544459 0.05672003]\n"
     ]
    }
   ],
   "source": [
    "estimate, conf_int = myOptionPricer.estimate_expectation(epsilon=0.01)\n",
    "exact_expectation = myOptionPricer.compute_exact_expectation()\n",
    "print(f\"Estimated payoff: {estimate}\")\n",
    "print(f\"Exact payoff: {exact_expectation}\")\n",
    "print(f\"Confidence interval: {conf_int}\")"
   ]
  },
  {
   "cell_type": "markdown",
   "metadata": {},
   "source": [
    "## Best-Of-Call"
   ]
  },
  {
   "cell_type": "code",
   "execution_count": 1,
   "metadata": {},
   "outputs": [],
   "source": [
    "import numpy as np\n",
    "from qfinance.option_pricing import OptionPricing, OptionParams\n",
    "## define options\n",
    "myOptionParams = OptionParams(num_uncertainty_qubits=3, option_type=\"best-of-call\")\n",
    "myOptionParams.add_variable(\n",
    "    {\n",
    "    'S': 2.0,  \n",
    "    'vol': 0.5 , \n",
    "    \"r\": 0.04,  \n",
    "    \"T\": 40 / 365 , \n",
    "    }\n",
    ")\n",
    "myOptionParams.add_variable(\n",
    "    {\n",
    "    'S': 2.0,  \n",
    "    'vol': 0.5 , \n",
    "    \"r\": 0.04,  \n",
    "    \"T\": 40 / 365 , \n",
    "    }\n",
    ")\n",
    "\n",
    "correlation = 0.2\n",
    "myOptionParams.set_covariance_matrix(correlation)\n",
    "myOptionParams.set_strike_prices([1.9,1.7])\n",
    "\n",
    "myOptionPricer = OptionPricing(myOptionParams)"
   ]
  },
  {
   "cell_type": "code",
   "execution_count": 2,
   "metadata": {},
   "outputs": [
    {
     "name": "stdout",
     "output_type": "stream",
     "text": [
      "Estimated payoff: 0.5216778420928678\n",
      "Exact payoff: 0.4817468761616354\n",
      "Confidence interval: [0.36814178 0.6752139 ]\n"
     ]
    }
   ],
   "source": [
    "estimate, conf_int = myOptionPricer.estimate_expectation(epsilon=0.01)\n",
    "exact_expectation = myOptionPricer.compute_exact_expectation()\n",
    "print(f\"Estimated payoff: {estimate}\")\n",
    "print(f\"Exact payoff: {exact_expectation}\")\n",
    "print(f\"Confidence interval: {conf_int}\")"
   ]
  },
  {
   "cell_type": "code",
   "execution_count": null,
   "metadata": {},
   "outputs": [],
   "source": []
  }
 ],
 "metadata": {
  "kernelspec": {
   "display_name": "qfinance",
   "language": "python",
   "name": "python3"
  },
  "language_info": {
   "codemirror_mode": {
    "name": "ipython",
    "version": 3
   },
   "file_extension": ".py",
   "mimetype": "text/x-python",
   "name": "python",
   "nbconvert_exporter": "python",
   "pygments_lexer": "ipython3",
   "version": "3.11.7"
  }
 },
 "nbformat": 4,
 "nbformat_minor": 2
}
