{
 "cells": [
  {
   "cell_type": "markdown",
   "metadata": {},
   "source": [
    "# Implements the comparator\n",
    "\n",
    "We need to define a few things. \n",
    "$$\\ket{\\phi(x)} = QFT\\ket{x}$$\n",
    "$$R_k = \\begin{bmatrix} 1 & 0 \\\\ 0 & e^{\\frac{2\\pi i}{2^k}}\\end{bmatrix}$$"
   ]
  },
  {
   "cell_type": "code",
   "execution_count": null,
   "metadata": {},
   "outputs": [],
   "source": []
  },
  {
   "cell_type": "code",
   "execution_count": null,
   "metadata": {},
   "outputs": [],
   "source": []
  }
 ],
 "metadata": {
  "language_info": {
   "name": "python"
  }
 },
 "nbformat": 4,
 "nbformat_minor": 2
}
