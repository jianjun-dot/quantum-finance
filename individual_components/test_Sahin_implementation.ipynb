{
 "cells": [
  {
   "cell_type": "markdown",
   "metadata": {},
   "source": [
    "# Build QFT"
   ]
  },
  {
   "cell_type": "code",
   "execution_count": 99,
   "metadata": {},
   "outputs": [
    {
     "data": {
      "text/html": [
       "<pre style=\"word-wrap: normal;white-space: pre;background: #fff0;line-height: 1.1;font-family: &quot;Courier New&quot;,Courier,monospace\">     ┌───┐┌────┐     \n",
       "q_0: ┤ H ├┤ R2 ├─────\n",
       "     └───┘└─┬──┘┌───┐\n",
       "q_1: ───────■───┤ H ├\n",
       "                └───┘</pre>"
      ],
      "text/plain": [
       "     ┌───┐┌────┐     \n",
       "q_0: ┤ H ├┤ R2 ├─────\n",
       "     └───┘└─┬──┘┌───┐\n",
       "q_1: ───────■───┤ H ├\n",
       "                └───┘"
      ]
     },
     "execution_count": 99,
     "metadata": {},
     "output_type": "execute_result"
    }
   ],
   "source": [
    "import numpy as np\n",
    "from qiskit import QuantumCircuit, QuantumRegister, ClassicalRegister, execute, Aer\n",
    "from qiskit.quantum_info.operators import Operator\n",
    "\n",
    "\n",
    "def controlled_rotation_gate(k):\n",
    "    rotation = np.array(\n",
    "        [[1, 0], [0, np.exp(2 * np.pi * 1j / 2**k)]], dtype=np.complex128\n",
    "    )\n",
    "    rotation_gate = Operator(rotation)\n",
    "    circuit = QuantumCircuit(1)\n",
    "    circuit.append(rotation_gate, [0])\n",
    "    rotation_gate = circuit.to_gate(label=\"R{}\".format(k))\n",
    "    controlled_rotation = rotation_gate.control(1)\n",
    "    return controlled_rotation\n",
    "\n",
    "def swap_all(n):\n",
    "    \"\"\"Creates a circuit that swaps all qubits\"\"\"\n",
    "    circuit = QuantumCircuit(n, name='SWAP_ALL')\n",
    "    for i in range(n//2):\n",
    "        circuit.swap(i, n-i-1)\n",
    "    return circuit\n",
    "\n",
    "def qft_gate(n, swap=False):\n",
    "    \"\"\"Creates an n-qubit QFT circuit\"\"\"\n",
    "    circuit = QuantumCircuit(n, name='QFT')\n",
    "    for i in range(n):\n",
    "        circuit.h(i)\n",
    "        for j in range(i+1, n):\n",
    "            circuit.append(controlled_rotation_gate(j-i+1), [j, i])\n",
    "    if swap:\n",
    "        circuit.append(swap_all(n), range(n))\n",
    "    return circuit\n",
    "\n",
    "n_qubits = 1\n",
    "\n",
    "qft_circuit = QuantumCircuit(n_qubits+1, name='QFT')\n",
    "\n",
    "for i in range(qft_circuit.num_qubits):\n",
    "    qft_circuit.h(i)\n",
    "    for j in range(i+1, qft_circuit.num_qubits):\n",
    "        qft_circuit.append(controlled_rotation_gate(j-i+1), [j, i])\n",
    "    # qft_circuit.barrier()\n",
    "\n",
    "qft = qft_circuit.to_gate(label='QFT')\n",
    "inverse_qft_gate = qft.inverse()\n",
    "qft_circuit.draw()"
   ]
  },
  {
   "cell_type": "markdown",
   "metadata": {},
   "source": [
    "# Test Draper QFT Adder"
   ]
  },
  {
   "cell_type": "code",
   "execution_count": 2,
   "metadata": {},
   "outputs": [
    {
     "name": "stdout",
     "output_type": "stream",
     "text": [
      "7\n"
     ]
    },
    {
     "data": {
      "text/html": [
       "<pre style=\"word-wrap: normal;white-space: pre;background: #fff0;line-height: 1.1;font-family: &quot;Courier New&quot;,Courier,monospace\">                    ┌───────────┐┌─────────────────┐┌─┐               \n",
       "           first_0: ┤ U3(π,0,π) ├┤0                ├┤M├───────────────\n",
       "                    └───────────┘│                 │└╥┘┌─┐            \n",
       "           first_1: ─────────────┤1                ├─╫─┤M├────────────\n",
       "                                 │                 │ ║ └╥┘┌─┐         \n",
       "           first_2: ─────────────┤2                ├─╫──╫─┤M├─────────\n",
       "                    ┌───────────┐│                 │ ║  ║ └╥┘┌─┐      \n",
       "          second_0: ┤ U3(π,0,π) ├┤3 DraperQFTAdder ├─╫──╫──╫─┤M├──────\n",
       "                    └───────────┘│                 │ ║  ║  ║ └╥┘┌─┐   \n",
       "          second_1: ─────────────┤4                ├─╫──╫──╫──╫─┤M├───\n",
       "                                 │                 │ ║  ║  ║  ║ └╥┘┌─┐\n",
       "          second_2: ─────────────┤5                ├─╫──╫──╫──╫──╫─┤M├\n",
       "                                 │                 │ ║  ║  ║  ║  ║ └╥┘\n",
       "             carry: ─────────────┤6                ├─╫──╫──╫──╫──╫──╫─\n",
       "                                 └─────────────────┘ ║  ║  ║  ║  ║  ║ \n",
       " first_classical: 3/═════════════════════════════════╩══╩══╩══╬══╬══╬═\n",
       "                                                     0  1  2  ║  ║  ║ \n",
       "second_classical: 3/══════════════════════════════════════════╩══╩══╩═\n",
       "                                                              0  1  2 </pre>"
      ],
      "text/plain": [
       "                    ┌───────────┐┌─────────────────┐┌─┐               \n",
       "           first_0: ┤ U3(π,0,π) ├┤0                ├┤M├───────────────\n",
       "                    └───────────┘│                 │└╥┘┌─┐            \n",
       "           first_1: ─────────────┤1                ├─╫─┤M├────────────\n",
       "                                 │                 │ ║ └╥┘┌─┐         \n",
       "           first_2: ─────────────┤2                ├─╫──╫─┤M├─────────\n",
       "                    ┌───────────┐│                 │ ║  ║ └╥┘┌─┐      \n",
       "          second_0: ┤ U3(π,0,π) ├┤3 DraperQFTAdder ├─╫──╫──╫─┤M├──────\n",
       "                    └───────────┘│                 │ ║  ║  ║ └╥┘┌─┐   \n",
       "          second_1: ─────────────┤4                ├─╫──╫──╫──╫─┤M├───\n",
       "                                 │                 │ ║  ║  ║  ║ └╥┘┌─┐\n",
       "          second_2: ─────────────┤5                ├─╫──╫──╫──╫──╫─┤M├\n",
       "                                 │                 │ ║  ║  ║  ║  ║ └╥┘\n",
       "             carry: ─────────────┤6                ├─╫──╫──╫──╫──╫──╫─\n",
       "                                 └─────────────────┘ ║  ║  ║  ║  ║  ║ \n",
       " first_classical: 3/═════════════════════════════════╩══╩══╩══╬══╬══╬═\n",
       "                                                     0  1  2  ║  ║  ║ \n",
       "second_classical: 3/══════════════════════════════════════════╩══╩══╩═\n",
       "                                                              0  1  2 "
      ]
     },
     "execution_count": 2,
     "metadata": {},
     "output_type": "execute_result"
    }
   ],
   "source": [
    "from qiskit.circuit.library import DraperQFTAdder\n",
    "from qiskit import QuantumCircuit, QuantumRegister, ClassicalRegister, execute, Aer\n",
    "\n",
    "n_qubits = 3\n",
    "\n",
    "first_register = QuantumRegister(n_qubits, name='first')\n",
    "second_register = QuantumRegister(n_qubits, name='second')\n",
    "first_classical = ClassicalRegister(n_qubits, name='first_classical')\n",
    "second_classical = ClassicalRegister(n_qubits, name='second_classical')\n",
    "carry_register = QuantumRegister(1, name='carry')\n",
    "circuit = QuantumCircuit(first_register, second_register,  carry_register, first_classical, second_classical)\n",
    "adder = DraperQFTAdder(n_qubits, kind=\"half\")\n",
    "print(adder.num_qubits)\n",
    "circuit.x(first_register[0])\n",
    "circuit.x(second_register[0])\n",
    "\n",
    "circuit.append(adder, first_register[:] + second_register[:] + [carry_register[0]])\n",
    "circuit.measure(first_register, first_classical)\n",
    "circuit.measure(second_register, second_classical)\n",
    "circuit.decompose(reps=1).draw()\n"
   ]
  },
  {
   "cell_type": "code",
   "execution_count": 3,
   "metadata": {},
   "outputs": [
    {
     "name": "stdout",
     "output_type": "stream",
     "text": [
      "{'010 001': 1000}\n"
     ]
    }
   ],
   "source": [
    "backend = Aer.get_backend('qasm_simulator')\n",
    "job = execute(circuit, backend, shots=1000)\n",
    "result = job.result()\n",
    "counts = result.get_counts()\n",
    "print(counts)"
   ]
  },
  {
   "cell_type": "code",
   "execution_count": 5,
   "metadata": {},
   "outputs": [
    {
     "name": "stdout",
     "output_type": "stream",
     "text": [
      "0 + 0  {(0, 0): 1000}\n",
      "0 + 1  {(0, 1): 1000}\n",
      "0 + 2  {(0, 2): 1000}\n",
      "0 + 3  {(0, 3): 1000}\n",
      "1 + 0  {(1, 1): 1000}\n",
      "1 + 1  {(1, 2): 1000}\n",
      "1 + 2  {(1, 3): 1000}\n",
      "1 + 3  {(1, 4): 1000}\n",
      "2 + 0  {(2, 2): 1000}\n",
      "2 + 1  {(2, 3): 1000}\n",
      "2 + 2  {(2, 4): 1000}\n",
      "2 + 3  {(2, 5): 1000}\n",
      "3 + 0  {(3, 3): 1000}\n",
      "3 + 1  {(3, 4): 1000}\n",
      "3 + 2  {(3, 5): 1000}\n",
      "3 + 3  {(3, 6): 1000}\n"
     ]
    }
   ],
   "source": [
    "def loadNumber(circ: QuantumCircuit, register: QuantumRegister, number: int):\n",
    "    number_in_binary = '0'*(register.size - len(bin(number)[2:])) + bin(number)[2:]\n",
    "    \n",
    "    for i in range(len(number_in_binary)):\n",
    "        if number_in_binary[::-1][i] == '1':\n",
    "            circ.x(register[i])\n",
    "\n",
    "def resultToNumber(counts: dict):\n",
    "    results_dict = {}\n",
    "    for keys, value in counts.items():\n",
    "        splitted_measurements = keys.split(' ')\n",
    "        # output = int(splitted_measurements[1], 2)\n",
    "        first_number = int(splitted_measurements[1], 2)\n",
    "        computed_output = int(splitted_measurements[0],2)\n",
    "        results_dict[(first_number, computed_output)] = value\n",
    "    return results_dict\n",
    "\n",
    "\n",
    "for firstNumber in range(2**(n_qubits-1)):\n",
    "    for secondNumber in range(2**(n_qubits-1)):\n",
    "        circ = QuantumCircuit(carry_register, first_register, second_register, first_classical, second_classical)\n",
    "        # load first number\n",
    "        loadNumber(circ, first_register, firstNumber)\n",
    "        # load second number\n",
    "        loadNumber(circ, second_register, secondNumber)\n",
    "        circ.barrier()\n",
    "        circ.append(adder, first_register[:] + second_register[:] + [carry_register[0]])\n",
    "        circ.barrier()\n",
    "        circ.measure(first_register, first_classical)\n",
    "        circ.measure(second_register, second_classical)\n",
    "\n",
    "        job = execute(circ, Aer.get_backend('qasm_simulator'), shots=1000)\n",
    "        counts = job.result().get_counts()\n",
    "        processed_counts = resultToNumber(counts)\n",
    "        print(\"{} + {} \".format(firstNumber, secondNumber), processed_counts)"
   ]
  },
  {
   "cell_type": "markdown",
   "metadata": {},
   "source": [
    "# 2 qubit example"
   ]
  },
  {
   "cell_type": "code",
   "execution_count": 137,
   "metadata": {},
   "outputs": [
    {
     "data": {
      "text/html": [
       "<pre style=\"word-wrap: normal;white-space: pre;background: #fff0;line-height: 1.1;font-family: &quot;Courier New&quot;,Courier,monospace\">     ┌──────┐   ┌───────┐┌─┐   \n",
       "q_0: ┤1     ├─■─┤1      ├┤M├───\n",
       "     │  QFT │ │ │  IQFT │└╥┘┌─┐\n",
       "q_1: ┤0     ├─■─┤0      ├─╫─┤M├\n",
       "     └──────┘   └───────┘ ║ └╥┘\n",
       "c: 2/═════════════════════╩══╩═\n",
       "                          0  1 </pre>"
      ],
      "text/plain": [
       "     ┌──────┐   ┌───────┐┌─┐   \n",
       "q_0: ┤1     ├─■─┤1      ├┤M├───\n",
       "     │  QFT │ │ │  IQFT │└╥┘┌─┐\n",
       "q_1: ┤0     ├─■─┤0      ├─╫─┤M├\n",
       "     └──────┘   └───────┘ ║ └╥┘\n",
       "c: 2/═════════════════════╩══╩═\n",
       "                          0  1 "
      ]
     },
     "execution_count": 137,
     "metadata": {},
     "output_type": "execute_result"
    }
   ],
   "source": [
    "import numpy as np\n",
    "from qiskit import QuantumCircuit, QuantumRegister, ClassicalRegister, execute, Aer\n",
    "from qiskit.quantum_info.operators import Operator\n",
    "from qiskit.circuit.library import QFT\n",
    "\n",
    "test_circuit = QuantumCircuit(2, 2)\n",
    "test_circuit.append(QFT(2), reversed(range(2)))\n",
    "test_circuit.cz(1, 0)\n",
    "test_circuit.append(QFT(2).inverse(), reversed(range(2)))\n",
    "test_circuit.measure(range(2), range(2))\n",
    "test_circuit.draw()"
   ]
  },
  {
   "cell_type": "code",
   "execution_count": 138,
   "metadata": {},
   "outputs": [
    {
     "name": "stdout",
     "output_type": "stream",
     "text": [
      "{'01': 258, '00': 236, '11': 271, '10': 235}\n"
     ]
    }
   ],
   "source": [
    "backend = Aer.get_backend('qasm_simulator')\n",
    "job = execute(test_circuit, backend, shots=1000)\n",
    "result = job.result()\n",
    "counts = result.get_counts()\n",
    "print(counts)"
   ]
  },
  {
   "cell_type": "markdown",
   "metadata": {},
   "source": [
    "# Build NMAdd"
   ]
  },
  {
   "cell_type": "code",
   "execution_count": 226,
   "metadata": {},
   "outputs": [
    {
     "data": {
      "text/html": [
       "<pre style=\"word-wrap: normal;white-space: pre;background: #fff0;line-height: 1.1;font-family: &quot;Courier New&quot;,Courier,monospace\">          ┌────────┐\n",
       "phi(a)_0: ┤0       ├\n",
       "          │        │\n",
       "phi(a)_1: ┤1       ├\n",
       "          │        │\n",
       "phi(a)_2: ┤2       ├\n",
       "          │        │\n",
       "phi(a)_3: ┤3 NMAdd ├\n",
       "          │        │\n",
       "     b_0: ┤4       ├\n",
       "          │        │\n",
       "     b_1: ┤5       ├\n",
       "          │        │\n",
       "     b_2: ┤6       ├\n",
       "          └────────┘</pre>"
      ],
      "text/plain": [
       "          ┌────────┐\n",
       "phi(a)_0: ┤0       ├\n",
       "          │        │\n",
       "phi(a)_1: ┤1       ├\n",
       "          │        │\n",
       "phi(a)_2: ┤2       ├\n",
       "          │        │\n",
       "phi(a)_3: ┤3 NMAdd ├\n",
       "          │        │\n",
       "     b_0: ┤4       ├\n",
       "          │        │\n",
       "     b_1: ┤5       ├\n",
       "          │        │\n",
       "     b_2: ┤6       ├\n",
       "          └────────┘"
      ]
     },
     "execution_count": 226,
     "metadata": {},
     "output_type": "execute_result"
    }
   ],
   "source": [
    "\n",
    "from qiskit import QuantumCircuit, QuantumRegister, ClassicalRegister, execute, Aer\n",
    "from qiskit.quantum_info.operators import Operator\n",
    "\n",
    "def rotation(k):\n",
    "    return np.array([[1, 0], [0, np.exp(2 * np.pi * 1j / 2**k)]])\n",
    "\n",
    "\n",
    "def controlled_rotation_gate(k):\n",
    "    inverse_rotation = np.array(\n",
    "        [[1, 0], [0, np.exp(2 * np.pi * 1j / 2**k)]], dtype=np.complex128\n",
    "    )\n",
    "    inverse_rotation_gate = Operator(inverse_rotation)\n",
    "    circuit = QuantumCircuit(1)\n",
    "    circuit.append(inverse_rotation_gate, [0])\n",
    "    inverse_rotation_gate = circuit.to_gate(label=\"R{}\".format(k))\n",
    "    controlled_rotation = inverse_rotation_gate.control(1)\n",
    "    return controlled_rotation\n",
    "\n",
    "\n",
    "def build_NMAdd(first_num_len, second_num_len):\n",
    "    first_number_register = QuantumRegister(first_num_len + 1, name=\"phi(a)\")\n",
    "    second_number_register = QuantumRegister(second_num_len, name=\"b\")\n",
    "    quantum_circuit = QuantumCircuit(first_number_register, second_number_register, name=\"NMAdd\")\n",
    "    counter = 1\n",
    "    for i in reversed(range(1, first_num_len + 1)):\n",
    "        for j in reversed(range(counter)):\n",
    "            quantum_circuit.append(\n",
    "                controlled_rotation_gate(counter - j),\n",
    "                [second_number_register[second_num_len - j - 1]] + [first_number_register[i]],\n",
    "            )\n",
    "        if counter < second_num_len:\n",
    "            counter += 1\n",
    "    for j in reversed(range(counter)):\n",
    "        quantum_circuit.append(\n",
    "            controlled_rotation_gate(counter - j + 1),\n",
    "            [second_number_register[second_num_len - j - 1]] + [first_number_register[0]],\n",
    "        )\n",
    "    \n",
    "    return quantum_circuit\n",
    "\n",
    "first_len = 3\n",
    "second_len = 3\n",
    "\n",
    "first_register = QuantumRegister(first_len+1, name=\"phi(a)\")\n",
    "second_register = QuantumRegister(second_len, name=\"b\")\n",
    "\n",
    "\n",
    "test_circuit = QuantumCircuit(first_register, second_register)\n",
    "\n",
    "test_circuit.append(build_NMAdd(first_len, second_len), range(first_len+second_len+1))\n",
    "test_circuit.draw()"
   ]
  },
  {
   "cell_type": "markdown",
   "metadata": {},
   "source": [
    "# Build MAdd"
   ]
  },
  {
   "cell_type": "code",
   "execution_count": 217,
   "metadata": {},
   "outputs": [
    {
     "data": {
      "text/html": [
       "<pre style=\"word-wrap: normal;white-space: pre;background: #fff0;line-height: 1.1;font-family: &quot;Courier New&quot;,Courier,monospace\">                      ┌────┐      ┌────┐\n",
       "phi(a)_0: ────────────┤ R1 ├──────┤ R2 ├\n",
       "          ┌────┐      └─┬──┘┌────┐└─┬──┘\n",
       "phi(a)_1: ┤ R1 ├────────┼───┤ R2 ├──┼───\n",
       "          └─┬──┘┌────┐  │   └─┬──┘  │   \n",
       "phi(a)_2: ──┼───┤ R1 ├──┼─────┼─────┼───\n",
       "            │   └─┬──┘  │     │     │   \n",
       "     b_0: ──■─────┼─────■─────┼─────┼───\n",
       "                  │           │     │   \n",
       "     b_1: ────────■───────────■─────■───\n",
       "                                        </pre>"
      ],
      "text/plain": [
       "                      ┌────┐      ┌────┐\n",
       "phi(a)_0: ────────────┤ R1 ├──────┤ R2 ├\n",
       "          ┌────┐      └─┬──┘┌────┐└─┬──┘\n",
       "phi(a)_1: ┤ R1 ├────────┼───┤ R2 ├──┼───\n",
       "          └─┬──┘┌────┐  │   └─┬──┘  │   \n",
       "phi(a)_2: ──┼───┤ R1 ├──┼─────┼─────┼───\n",
       "            │   └─┬──┘  │     │     │   \n",
       "     b_0: ──■─────┼─────■─────┼─────┼───\n",
       "                  │           │     │   \n",
       "     b_1: ────────■───────────■─────■───\n",
       "                                        "
      ]
     },
     "execution_count": 217,
     "metadata": {},
     "output_type": "execute_result"
    }
   ],
   "source": [
    "from qiskit import QuantumCircuit, QuantumRegister, ClassicalRegister, execute, Aer\n",
    "from qiskit.quantum_info.operators import Operator\n",
    "\n",
    "def rotation(k):\n",
    "    return np.array([[1, 0], [0, np.exp(2 * np.pi * 1j / 2**k)]])\n",
    "\n",
    "\n",
    "def controlled_rotation_gate(k):\n",
    "    inverse_rotation = np.array(\n",
    "        [[1, 0], [0, np.exp(2 * np.pi * 1j / 2**k)]], dtype=np.complex128\n",
    "    )\n",
    "    inverse_rotation_gate = Operator(inverse_rotation)\n",
    "    circuit = QuantumCircuit(1)\n",
    "    circuit.append(inverse_rotation_gate, [0])\n",
    "    inverse_rotation_gate = circuit.to_gate(label=\"R{}\".format(k))\n",
    "    controlled_rotation = inverse_rotation_gate.control(1)\n",
    "    return controlled_rotation\n",
    "\n",
    "\n",
    "def build_MAdd(m, n):\n",
    "    first_number_register = QuantumRegister(n + 1, name=\"phi(a)\")\n",
    "    second_number_register = QuantumRegister(m, name=\"b\")\n",
    "    quantum_circuit = QuantumCircuit(first_number_register, second_number_register, name=\"MAdd\")\n",
    "    counter = 1\n",
    "    for i in reversed(range(0, n + 1)):\n",
    "        for j in reversed(range(counter)):\n",
    "            quantum_circuit.append(\n",
    "                controlled_rotation_gate(counter - j),\n",
    "                [second_number_register[m - j - 1]] + [first_number_register[i]],\n",
    "            )\n",
    "        if counter < m:\n",
    "            counter += 1\n",
    "        # quantum_circuit.barrier()\n",
    "    return quantum_circuit\n",
    "\n",
    "first_register = QuantumRegister(3, name=\"phi(a)\")\n",
    "second_register = QuantumRegister(2, name=\"b\")\n",
    "\n",
    "\n",
    "test_circuit = QuantumCircuit(first_register, second_register)\n",
    "\n",
    "test_circuit.append(build_MAdd(2, 2), range(5))\n",
    "test_circuit.decompose().draw()"
   ]
  },
  {
   "cell_type": "markdown",
   "metadata": {},
   "source": [
    "# Build QNMAdd"
   ]
  },
  {
   "cell_type": "code",
   "execution_count": 219,
   "metadata": {},
   "outputs": [
    {
     "data": {
      "text/html": [
       "<pre style=\"word-wrap: normal;white-space: pre;background: #fff0;line-height: 1.1;font-family: &quot;Courier New&quot;,Courier,monospace\">                     ┌───┐┌───┐┌──────┐ ░ ┌────────┐ ░ ┌─────────┐ ░ ┌─┐      »\n",
       "     c: ─────────────┤ X ├┤ X ├┤0     ├─░─┤0       ├─░─┤0        ├─░─┤M├──────»\n",
       "                     └─┬─┘└─┬─┘│      │ ░ │        │ ░ │         │ ░ └╥┘┌─┐   »\n",
       "   a_0: ───────────────o────■──┤1 QFT ├─░─┤1       ├─░─┤1 QFT_dg ├─░──╫─┤M├───»\n",
       "        ┌───────────┐  │    │  │      │ ░ │        │ ░ │         │ ░  ║ └╥┘┌─┐»\n",
       "   a_1: ┤ U3(π,0,π) ├──┼────┼──┤2     ├─░─┤2       ├─░─┤2        ├─░──╫──╫─┤M├»\n",
       "        ├───────────┤  │    │  └──────┘ ░ │  NMAdd │ ░ └─────────┘ ░  ║  ║ └╥┘»\n",
       "   b_0: ┤ U3(π,0,π) ├──■────o───────────░─┤3       ├─░─────────────░──╫──╫──╫─»\n",
       "        └───────────┘                   ░ │        │ ░             ░  ║  ║  ║ »\n",
       "   b_1: ────────────────────────────────░─┤4       ├─░─────────────░──╫──╫──╫─»\n",
       "                                        ░ │        │ ░             ░  ║  ║  ║ »\n",
       "   b_2: ────────────────────────────────░─┤5       ├─░─────────────░──╫──╫──╫─»\n",
       "                                        ░ └────────┘ ░             ░  ║  ║  ║ »\n",
       "meas: 6/══════════════════════════════════════════════════════════════╩══╩══╩═»\n",
       "                                                                      0  1  2 »\n",
       "«                 \n",
       "«     c: ─────────\n",
       "«                 \n",
       "«   a_0: ─────────\n",
       "«                 \n",
       "«   a_1: ─────────\n",
       "«        ┌─┐      \n",
       "«   b_0: ┤M├──────\n",
       "«        └╥┘┌─┐   \n",
       "«   b_1: ─╫─┤M├───\n",
       "«         ║ └╥┘┌─┐\n",
       "«   b_2: ─╫──╫─┤M├\n",
       "«         ║  ║ └╥┘\n",
       "«meas: 6/═╩══╩══╩═\n",
       "«         3  4  5 </pre>"
      ],
      "text/plain": [
       "                     ┌───┐┌───┐┌──────┐ ░ ┌────────┐ ░ ┌─────────┐ ░ ┌─┐      »\n",
       "     c: ─────────────┤ X ├┤ X ├┤0     ├─░─┤0       ├─░─┤0        ├─░─┤M├──────»\n",
       "                     └─┬─┘└─┬─┘│      │ ░ │        │ ░ │         │ ░ └╥┘┌─┐   »\n",
       "   a_0: ───────────────o────■──┤1 QFT ├─░─┤1       ├─░─┤1 QFT_dg ├─░──╫─┤M├───»\n",
       "        ┌───────────┐  │    │  │      │ ░ │        │ ░ │         │ ░  ║ └╥┘┌─┐»\n",
       "   a_1: ┤ U3(π,0,π) ├──┼────┼──┤2     ├─░─┤2       ├─░─┤2        ├─░──╫──╫─┤M├»\n",
       "        ├───────────┤  │    │  └──────┘ ░ │  NMAdd │ ░ └─────────┘ ░  ║  ║ └╥┘»\n",
       "   b_0: ┤ U3(π,0,π) ├──■────o───────────░─┤3       ├─░─────────────░──╫──╫──╫─»\n",
       "        └───────────┘                   ░ │        │ ░             ░  ║  ║  ║ »\n",
       "   b_1: ────────────────────────────────░─┤4       ├─░─────────────░──╫──╫──╫─»\n",
       "                                        ░ │        │ ░             ░  ║  ║  ║ »\n",
       "   b_2: ────────────────────────────────░─┤5       ├─░─────────────░──╫──╫──╫─»\n",
       "                                        ░ └────────┘ ░             ░  ║  ║  ║ »\n",
       "meas: 6/══════════════════════════════════════════════════════════════╩══╩══╩═»\n",
       "                                                                      0  1  2 »\n",
       "«                 \n",
       "«     c: ─────────\n",
       "«                 \n",
       "«   a_0: ─────────\n",
       "«                 \n",
       "«   a_1: ─────────\n",
       "«        ┌─┐      \n",
       "«   b_0: ┤M├──────\n",
       "«        └╥┘┌─┐   \n",
       "«   b_1: ─╫─┤M├───\n",
       "«         ║ └╥┘┌─┐\n",
       "«   b_2: ─╫──╫─┤M├\n",
       "«         ║  ║ └╥┘\n",
       "«meas: 6/═╩══╩══╩═\n",
       "«         3  4  5 "
      ]
     },
     "execution_count": 219,
     "metadata": {},
     "output_type": "execute_result"
    }
   ],
   "source": [
    "def build_QNMAdd(first_num_length, second_num_length):\n",
    "    carry_register = QuantumRegister(1, name=\"c\")\n",
    "    first_register = QuantumRegister(first_num_length, name=\"a\")\n",
    "    second_register = QuantumRegister(second_num_length, name=\"b\")\n",
    "    circ = QuantumCircuit(carry_register, first_register, second_register, name=\"QNMAdd\")\n",
    "    qft = qft_gate(first_num_length+1)\n",
    "    inverse_qft = qft.inverse()\n",
    "    circ.ccx(first_register[0], second_register[0], carry_register[0], ctrl_state=\"10\")\n",
    "    circ.ccx(first_register[0], second_register[0], carry_register[0], ctrl_state=\"01\")\n",
    "    circ.append(qft, [carry_register[0]]+ first_register[:])\n",
    "    circ.barrier()\n",
    "    circ.append(build_NMAdd(first_num_length, second_num_length), carry_register[:] + first_register[:] + second_register[:])\n",
    "    circ.barrier()\n",
    "    circ.append(inverse_qft, [carry_register[0]]+ first_register[:])\n",
    "    return circ\n",
    "\n",
    "carry_register = QuantumRegister(1, name=\"c\")\n",
    "first_register = QuantumRegister(2, name=\"a\")\n",
    "second_register = QuantumRegister(3, name=\"b\")\n",
    "\n",
    "test_circuit = QuantumCircuit(carry_register, first_register, second_register)\n",
    "\n",
    "\n",
    "test_circuit.x(first_register[1])\n",
    "test_circuit.x(second_register[0])\n",
    "\n",
    "test_circuit.append(build_QNMAdd(2, 3), carry_register[:] + first_register[:] + second_register[:])\n",
    "test_circuit.measure_all()\n",
    "test_circuit.decompose().draw()\n",
    "    "
   ]
  },
  {
   "cell_type": "code",
   "execution_count": 220,
   "metadata": {},
   "outputs": [
    {
     "data": {
      "text/html": [
       "<pre style=\"word-wrap: normal;white-space: pre;background: #fff0;line-height: 1.1;font-family: &quot;Courier New&quot;,Courier,monospace\">                                             ░ ┌────────┐ ░            ┌─┐   »\n",
       "        a_0: ────────────────────────────────░─┤6       ├─░────────────┤M├───»\n",
       "                                             ░ │        │ ░            └╥┘┌─┐»\n",
       "        a_1: ────────────────────────────────░─┤5       ├─░─────────────╫─┤M├»\n",
       "             ┌───────────┐                   ░ │        │ ░             ║ └╥┘»\n",
       "        a_2: ┤ U3(π,0,π) ├──o────■───────────░─┤4       ├─░─────────────╫──╫─»\n",
       "             ├───────────┤  │    │  ┌──────┐ ░ │        │ ░ ┌─────────┐ ║  ║ »\n",
       "        b_0: ┤ U3(π,0,π) ├──┼────┼──┤3     ├─░─┤3 NMAdd ├─░─┤3        ├─╫──╫─»\n",
       "             └───────────┘  │    │  │      │ ░ │        │ ░ │         │ ║  ║ »\n",
       "        b_1: ───────────────┼────┼──┤2     ├─░─┤2       ├─░─┤2        ├─╫──╫─»\n",
       "                            │    │  │  QFT │ ░ │        │ ░ │  QFT_dg │ ║  ║ »\n",
       "        b_2: ───────────────■────o──┤1     ├─░─┤1       ├─░─┤1        ├─╫──╫─»\n",
       "                          ┌─┴─┐┌─┴─┐│      │ ░ │        │ ░ │         │ ║  ║ »\n",
       "          c: ─────────────┤ X ├┤ X ├┤0     ├─░─┤0       ├─░─┤0        ├─╫──╫─»\n",
       "                          └───┘└───┘└──────┘ ░ └────────┘ ░ └─────────┘ ║  ║ »\n",
       "a_results: 3/═══════════════════════════════════════════════════════════╩══╩═»\n",
       "                                                                        0  1 »\n",
       "b_results: 4/════════════════════════════════════════════════════════════════»\n",
       "                                                                             »\n",
       "«                            \n",
       "«        a_0: ───────────────\n",
       "«                            \n",
       "«        a_1: ───────────────\n",
       "«             ┌─┐            \n",
       "«        a_2: ┤M├────────────\n",
       "«             └╥┘┌─┐         \n",
       "«        b_0: ─╫─┤M├─────────\n",
       "«              ║ └╥┘┌─┐      \n",
       "«        b_1: ─╫──╫─┤M├──────\n",
       "«              ║  ║ └╥┘┌─┐   \n",
       "«        b_2: ─╫──╫──╫─┤M├───\n",
       "«              ║  ║  ║ └╥┘┌─┐\n",
       "«          c: ─╫──╫──╫──╫─┤M├\n",
       "«              ║  ║  ║  ║ └╥┘\n",
       "«a_results: 3/═╩══╬══╬══╬══╬═\n",
       "«              2  ║  ║  ║  ║ \n",
       "«b_results: 4/════╩══╩══╩══╩═\n",
       "«                 0  1  2  3 </pre>"
      ],
      "text/plain": [
       "                                             ░ ┌────────┐ ░            ┌─┐   »\n",
       "        a_0: ────────────────────────────────░─┤6       ├─░────────────┤M├───»\n",
       "                                             ░ │        │ ░            └╥┘┌─┐»\n",
       "        a_1: ────────────────────────────────░─┤5       ├─░─────────────╫─┤M├»\n",
       "             ┌───────────┐                   ░ │        │ ░             ║ └╥┘»\n",
       "        a_2: ┤ U3(π,0,π) ├──o────■───────────░─┤4       ├─░─────────────╫──╫─»\n",
       "             ├───────────┤  │    │  ┌──────┐ ░ │        │ ░ ┌─────────┐ ║  ║ »\n",
       "        b_0: ┤ U3(π,0,π) ├──┼────┼──┤3     ├─░─┤3 NMAdd ├─░─┤3        ├─╫──╫─»\n",
       "             └───────────┘  │    │  │      │ ░ │        │ ░ │         │ ║  ║ »\n",
       "        b_1: ───────────────┼────┼──┤2     ├─░─┤2       ├─░─┤2        ├─╫──╫─»\n",
       "                            │    │  │  QFT │ ░ │        │ ░ │  QFT_dg │ ║  ║ »\n",
       "        b_2: ───────────────■────o──┤1     ├─░─┤1       ├─░─┤1        ├─╫──╫─»\n",
       "                          ┌─┴─┐┌─┴─┐│      │ ░ │        │ ░ │         │ ║  ║ »\n",
       "          c: ─────────────┤ X ├┤ X ├┤0     ├─░─┤0       ├─░─┤0        ├─╫──╫─»\n",
       "                          └───┘└───┘└──────┘ ░ └────────┘ ░ └─────────┘ ║  ║ »\n",
       "a_results: 3/═══════════════════════════════════════════════════════════╩══╩═»\n",
       "                                                                        0  1 »\n",
       "b_results: 4/════════════════════════════════════════════════════════════════»\n",
       "                                                                             »\n",
       "«                            \n",
       "«        a_0: ───────────────\n",
       "«                            \n",
       "«        a_1: ───────────────\n",
       "«             ┌─┐            \n",
       "«        a_2: ┤M├────────────\n",
       "«             └╥┘┌─┐         \n",
       "«        b_0: ─╫─┤M├─────────\n",
       "«              ║ └╥┘┌─┐      \n",
       "«        b_1: ─╫──╫─┤M├──────\n",
       "«              ║  ║ └╥┘┌─┐   \n",
       "«        b_2: ─╫──╫──╫─┤M├───\n",
       "«              ║  ║  ║ └╥┘┌─┐\n",
       "«          c: ─╫──╫──╫──╫─┤M├\n",
       "«              ║  ║  ║  ║ └╥┘\n",
       "«a_results: 3/═╩══╬══╬══╬══╬═\n",
       "«              2  ║  ║  ║  ║ \n",
       "«b_results: 4/════╩══╩══╩══╩═\n",
       "«                 0  1  2  3 "
      ]
     },
     "execution_count": 220,
     "metadata": {},
     "output_type": "execute_result"
    }
   ],
   "source": [
    "\n",
    "def build_QNMAdd(n, m):\n",
    "    carry_register = QuantumRegister(1, name=\"c\")\n",
    "    first_register = QuantumRegister(n, name=\"a\")\n",
    "    second_register = QuantumRegister(m, name=\"b\")\n",
    "    circ = QuantumCircuit(first_register, second_register,  carry_register, name=\"QNMAdd\")\n",
    "    qft = qft_gate(n+1)\n",
    "    inverse_qft = qft.inverse()\n",
    "    circ.ccx(first_register[-1], second_register[-1], carry_register[0], ctrl_state=\"10\")\n",
    "    circ.ccx(first_register[-1], second_register[-1], carry_register[0], ctrl_state=\"01\")\n",
    "    circ.append(qft, reversed(second_register[:]+ [carry_register[0]]))\n",
    "    circ.barrier()\n",
    "    circ.append(build_NMAdd(m, n), reversed(first_register[:]  + second_register[:]+carry_register[:]))\n",
    "    circ.barrier()\n",
    "    circ.append(inverse_qft, reversed(second_register[:]+ [carry_register[0]]))\n",
    "    return circ\n",
    "\n",
    "bit_length = 3\n",
    "carry_register = QuantumRegister(1, name=\"c\")\n",
    "first_register = QuantumRegister(bit_length, name=\"a\")\n",
    "second_register = QuantumRegister(bit_length, name=\"b\")\n",
    "first_register_results = ClassicalRegister(bit_length, name=\"a_results\")\n",
    "second_register_results = ClassicalRegister(bit_length+1, name=\"b_results\")\n",
    "\n",
    "test_circuit = QuantumCircuit(first_register, second_register,carry_register, first_register_results, second_register_results)\n",
    "\n",
    "\n",
    "test_circuit.x(first_register[2])\n",
    "test_circuit.x(second_register[0])\n",
    "\n",
    "test_circuit.append(build_QNMAdd(bit_length, bit_length), first_register[:] + second_register[:]+ carry_register[:])\n",
    "test_circuit.measure(first_register, first_register_results)\n",
    "test_circuit.measure(second_register[:]+ carry_register[:], second_register_results)\n",
    "test_circuit.decompose().draw()"
   ]
  },
  {
   "cell_type": "code",
   "execution_count": 221,
   "metadata": {},
   "outputs": [
    {
     "name": "stdout",
     "output_type": "stream",
     "text": [
      "{'1101 100': 1000}\n"
     ]
    },
    {
     "data": {
      "image/png": "[encoded data removed]",
      "text/plain": [
       "<Figure size 700x500 with 1 Axes>"
      ]
     },
     "execution_count": 221,
     "metadata": {},
     "output_type": "execute_result"
    }
   ],
   "source": [
    "job = execute(test_circuit, Aer.get_backend('aer_simulator'), shots=1000)\n",
    "results = job.result()\n",
    "counts = results.get_counts()\n",
    "print(counts)\n",
    "# print(counts)\n",
    "from qiskit.visualization import plot_histogram\n",
    "plot_histogram(counts)"
   ]
  },
  {
   "cell_type": "code",
   "execution_count": 225,
   "metadata": {},
   "outputs": [
    {
     "name": "stdout",
     "output_type": "stream",
     "text": [
      "num 1: 0, num 2: 0, result: {'0000 000': 1000}, processed: (0, 0)\n",
      "num 1: 0, num 2: 1, result: {'0001 000': 1000}, processed: (1, 0)\n",
      "num 1: 0, num 2: 2, result: {'0010 000': 1000}, processed: (2, 0)\n",
      "num 1: 0, num 2: 3, result: {'0011 000': 1000}, processed: (3, 0)\n",
      "num 1: 1, num 2: 0, result: {'0001 001': 1000}, processed: (1, 1)\n",
      "num 1: 1, num 2: 1, result: {'0010 001': 1000}, processed: (2, 1)\n",
      "num 1: 1, num 2: 2, result: {'0011 001': 1000}, processed: (3, 1)\n",
      "num 1: 1, num 2: 3, result: {'0100 001': 1000}, processed: (4, 1)\n",
      "num 1: 2, num 2: 0, result: {'0010 010': 1000}, processed: (2, 2)\n",
      "num 1: 2, num 2: 1, result: {'0011 010': 1000}, processed: (3, 2)\n",
      "num 1: 2, num 2: 2, result: {'0100 010': 1000}, processed: (4, 2)\n",
      "num 1: 2, num 2: 3, result: {'0101 010': 1000}, processed: (5, 2)\n",
      "num 1: 3, num 2: 0, result: {'0011 011': 1000}, processed: (3, 3)\n",
      "num 1: 3, num 2: 1, result: {'0100 011': 1000}, processed: (4, 3)\n",
      "num 1: 3, num 2: 2, result: {'0101 011': 1000}, processed: (5, 3)\n",
      "num 1: 3, num 2: 3, result: {'0110 011': 1000}, processed: (6, 3)\n"
     ]
    }
   ],
   "source": [
    "# test QNMADD\n",
    "def loadNumber(circ: QuantumCircuit, register: QuantumRegister, number: int):\n",
    "    number_in_binary = '0'*(register.size - len(bin(number)[2:])) + bin(number)[2:]\n",
    "    for i in range(len(number_in_binary)):\n",
    "        if number_in_binary[::-1][i] == '1':\n",
    "            circ.x(register[i])\n",
    "\n",
    "def process_counts(counts):\n",
    "    key = list(counts.keys())[0]\n",
    "    key_parts = key.split(' ')\n",
    "    first_num = int(key_parts[0], 2)\n",
    "    second_num = int(key_parts[1], 2)\n",
    "    return first_num, second_num\n",
    "\n",
    "bit_length1 = 3\n",
    "bit_length2 = 3\n",
    "for first_num in range(2**(bit_length1-1)):\n",
    "    for second_num in range(2**(bit_length2-1)):\n",
    "        carry_register = QuantumRegister(1, name=\"c\")\n",
    "        first_register = QuantumRegister(bit_length1, name=\"a\")\n",
    "        second_register = QuantumRegister(bit_length2, name=\"b\")\n",
    "        first_register_results = ClassicalRegister(bit_length1, name=\"a_results\")\n",
    "        second_register_results = ClassicalRegister(bit_length2+1, name=\"b_results\")\n",
    "\n",
    "        test_circuit = QuantumCircuit(first_register, second_register,carry_register, first_register_results, second_register_results)\n",
    "\n",
    "        loadNumber(test_circuit, first_register, first_num)\n",
    "        loadNumber(test_circuit, second_register, second_num)\n",
    "\n",
    "        test_circuit.append(build_QNMAdd(bit_length1, bit_length2), first_register[:] + second_register[:]+ carry_register[:])\n",
    "        test_circuit.measure(first_register, first_register_results)\n",
    "        test_circuit.measure(second_register[:]+ carry_register[:], second_register_results)\n",
    "        job = execute(test_circuit, Aer.get_backend('aer_simulator'), shots=1000)\n",
    "        results = job.result()\n",
    "        counts = results.get_counts()\n",
    "        print(\"num 1: {}, num 2: {}, result: {}, processed: {}\".format(first_num, second_num, counts, process_counts(counts)))"
   ]
  },
  {
   "cell_type": "markdown",
   "metadata": {},
   "source": [
    "# Build QMAdd"
   ]
  },
  {
   "cell_type": "code",
   "execution_count": 204,
   "metadata": {},
   "outputs": [
    {
     "data": {
      "text/html": [
       "<pre style=\"word-wrap: normal;white-space: pre;background: #fff0;line-height: 1.1;font-family: &quot;Courier New&quot;,Courier,monospace\">                     ░ ┌───┐┌────┐     ┌────┐            ░             ┌────┐»\n",
       "     c: ─────────────░─┤ H ├┤ R2 ├─────┤ R3 ├────────────░─────────────┤ R1 ├»\n",
       "                     ░ └───┘└─┬──┘┌───┐└─┬──┘┌────┐      ░ ┌────┐      └─┬──┘»\n",
       "   a_0: ─────────────░────────■───┤ H ├──┼───┤ R2 ├──────░─┤ R1 ├────────┼───»\n",
       "        ┌──────────┐ ░            └───┘  │   └─┬──┘┌───┐ ░ └─┬──┘┌────┐  │   »\n",
       "   a_1: ┤ U(π,0,π) ├─░───────────────────■─────■───┤ H ├─░───┼───┤ R1 ├──┼───»\n",
       "        ├──────────┤ ░                             └───┘ ░   │   └─┬──┘  │   »\n",
       "   b_0: ┤ U(π,0,π) ├─░───────────────────────────────────░───■─────┼─────■───»\n",
       "        └──────────┘ ░                                   ░         │         »\n",
       "   b_1: ─────────────░───────────────────────────────────░─────────■─────────»\n",
       "                     ░                                   ░                   »\n",
       "meas: 5/═════════════════════════════════════════════════════════════════════»\n",
       "                                                                             »\n",
       "«              ┌────┐ ░                               ┌──────────────────┐»\n",
       "«     c: ──────┤ R2 ├─░───────────────────────────────┤ circuit-65236_dg ├»\n",
       "«        ┌────┐└─┬──┘ ░      ┌──────────────────┐┌───┐└────────┬─────────┘»\n",
       "«   a_0: ┤ R2 ├──┼────░──────┤ circuit-65245_dg ├┤ H ├─────────┼──────────»\n",
       "«        └─┬──┘  │    ░ ┌───┐└────────┬─────────┘└───┘         │          »\n",
       "«   a_1: ──┼─────┼────░─┤ H ├─────────■────────────────────────■──────────»\n",
       "«          │     │    ░ └───┘                                             »\n",
       "«   b_0: ──┼─────┼────░───────────────────────────────────────────────────»\n",
       "«          │     │    ░                                                   »\n",
       "«   b_1: ──■─────■────░───────────────────────────────────────────────────»\n",
       "«                     ░                                                   »\n",
       "«meas: 5/═════════════════════════════════════════════════════════════════»\n",
       "«                                                                         »\n",
       "«        ┌──────────────────┐┌───┐ ░ ┌─┐            \n",
       "«     c: ┤ circuit-65227_dg ├┤ H ├─░─┤M├────────────\n",
       "«        └────────┬─────────┘└───┘ ░ └╥┘┌─┐         \n",
       "«   a_0: ─────────■────────────────░──╫─┤M├─────────\n",
       "«                                  ░  ║ └╥┘┌─┐      \n",
       "«   a_1: ──────────────────────────░──╫──╫─┤M├──────\n",
       "«                                  ░  ║  ║ └╥┘┌─┐   \n",
       "«   b_0: ──────────────────────────░──╫──╫──╫─┤M├───\n",
       "«                                  ░  ║  ║  ║ └╥┘┌─┐\n",
       "«   b_1: ──────────────────────────░──╫──╫──╫──╫─┤M├\n",
       "«                                  ░  ║  ║  ║  ║ └╥┘\n",
       "«meas: 5/═════════════════════════════╩══╩══╩══╩══╩═\n",
       "«                                     0  1  2  3  4 </pre>"
      ],
      "text/plain": [
       "                     ░ ┌───┐┌────┐     ┌────┐            ░             ┌────┐»\n",
       "     c: ─────────────░─┤ H ├┤ R2 ├─────┤ R3 ├────────────░─────────────┤ R1 ├»\n",
       "                     ░ └───┘└─┬──┘┌───┐└─┬──┘┌────┐      ░ ┌────┐      └─┬──┘»\n",
       "   a_0: ─────────────░────────■───┤ H ├──┼───┤ R2 ├──────░─┤ R1 ├────────┼───»\n",
       "        ┌──────────┐ ░            └───┘  │   └─┬──┘┌───┐ ░ └─┬──┘┌────┐  │   »\n",
       "   a_1: ┤ U(π,0,π) ├─░───────────────────■─────■───┤ H ├─░───┼───┤ R1 ├──┼───»\n",
       "        ├──────────┤ ░                             └───┘ ░   │   └─┬──┘  │   »\n",
       "   b_0: ┤ U(π,0,π) ├─░───────────────────────────────────░───■─────┼─────■───»\n",
       "        └──────────┘ ░                                   ░         │         »\n",
       "   b_1: ─────────────░───────────────────────────────────░─────────■─────────»\n",
       "                     ░                                   ░                   »\n",
       "meas: 5/═════════════════════════════════════════════════════════════════════»\n",
       "                                                                             »\n",
       "«              ┌────┐ ░                               ┌──────────────────┐»\n",
       "«     c: ──────┤ R2 ├─░───────────────────────────────┤ circuit-65236_dg ├»\n",
       "«        ┌────┐└─┬──┘ ░      ┌──────────────────┐┌───┐└────────┬─────────┘»\n",
       "«   a_0: ┤ R2 ├──┼────░──────┤ circuit-65245_dg ├┤ H ├─────────┼──────────»\n",
       "«        └─┬──┘  │    ░ ┌───┐└────────┬─────────┘└───┘         │          »\n",
       "«   a_1: ──┼─────┼────░─┤ H ├─────────■────────────────────────■──────────»\n",
       "«          │     │    ░ └───┘                                             »\n",
       "«   b_0: ──┼─────┼────░───────────────────────────────────────────────────»\n",
       "«          │     │    ░                                                   »\n",
       "«   b_1: ──■─────■────░───────────────────────────────────────────────────»\n",
       "«                     ░                                                   »\n",
       "«meas: 5/═════════════════════════════════════════════════════════════════»\n",
       "«                                                                         »\n",
       "«        ┌──────────────────┐┌───┐ ░ ┌─┐            \n",
       "«     c: ┤ circuit-65227_dg ├┤ H ├─░─┤M├────────────\n",
       "«        └────────┬─────────┘└───┘ ░ └╥┘┌─┐         \n",
       "«   a_0: ─────────■────────────────░──╫─┤M├─────────\n",
       "«                                  ░  ║ └╥┘┌─┐      \n",
       "«   a_1: ──────────────────────────░──╫──╫─┤M├──────\n",
       "«                                  ░  ║  ║ └╥┘┌─┐   \n",
       "«   b_0: ──────────────────────────░──╫──╫──╫─┤M├───\n",
       "«                                  ░  ║  ║  ║ └╥┘┌─┐\n",
       "«   b_1: ──────────────────────────░──╫──╫──╫──╫─┤M├\n",
       "«                                  ░  ║  ║  ║  ║ └╥┘\n",
       "«meas: 5/═════════════════════════════╩══╩══╩══╩══╩═\n",
       "«                                     0  1  2  3  4 "
      ]
     },
     "execution_count": 204,
     "metadata": {},
     "output_type": "execute_result"
    }
   ],
   "source": [
    "def build_QMAdd(n, m):\n",
    "    carry_register = QuantumRegister(1, name=\"c\")\n",
    "    first_register = QuantumRegister(n, name=\"a\")\n",
    "    second_register = QuantumRegister(m, name=\"b\")\n",
    "    circ = QuantumCircuit(carry_register, first_register, second_register, name=\"QMAdd\")\n",
    "    qft = qft_gate(n+1)\n",
    "    inverse_qft = qft.inverse()\n",
    "    circ.append(qft, [carry_register[0]]+ first_register[:])\n",
    "    circ.barrier()\n",
    "    circ.append(build_MAdd(m, n), carry_register[:] + first_register[:] + second_register[:])\n",
    "    circ.barrier()\n",
    "    circ.append(inverse_qft, [carry_register[0]]+ first_register[:])\n",
    "    return circ\n",
    "\n",
    "carry_register = QuantumRegister(1, name=\"c\")\n",
    "first_register = QuantumRegister(2, name=\"a\")\n",
    "second_register = QuantumRegister(2, name=\"b\")\n",
    "\n",
    "test_circuit = QuantumCircuit(carry_register, first_register, second_register)\n",
    "\n",
    "\n",
    "test_circuit.x(first_register[1])\n",
    "test_circuit.x(second_register[0])\n",
    "test_circuit.barrier()\n",
    "\n",
    "test_circuit.append(build_QMAdd(2, 2), carry_register[:] + first_register[:] + second_register[:])\n",
    "test_circuit.measure_all()\n",
    "test_circuit.decompose(reps=2).draw()"
   ]
  },
  {
   "cell_type": "code",
   "execution_count": 205,
   "metadata": {},
   "outputs": [
    {
     "name": "stdout",
     "output_type": "stream",
     "text": [
      "{'01110': 471, '01111': 529}\n"
     ]
    },
    {
     "data": {
      "image/png": "[encoded data removed]",
      "text/plain": [
       "<Figure size 700x500 with 1 Axes>"
      ]
     },
     "execution_count": 205,
     "metadata": {},
     "output_type": "execute_result"
    }
   ],
   "source": [
    "job = execute(test_circuit, Aer.get_backend('aer_simulator'), shots=1000)\n",
    "results = job.result()\n",
    "counts = results.get_counts()\n",
    "print(counts)\n",
    "# print(counts)\n",
    "from qiskit.visualization import plot_histogram\n",
    "plot_histogram(counts)"
   ]
  },
  {
   "cell_type": "code",
   "execution_count": 206,
   "metadata": {},
   "outputs": [
    {
     "name": "stdout",
     "output_type": "stream",
     "text": [
      "num 1: 0, num 2: 0, result: {'0000 000': 1000}\n",
      "num 1: 0, num 2: 1, result: {'0001 000': 1000}\n",
      "num 1: 0, num 2: 2, result: {'0010 011': 489, '0010 010': 511}\n",
      "num 1: 0, num 2: 3, result: {'0011 011': 480, '0011 010': 520}\n",
      "num 1: 0, num 2: 4, result: {'0100 101': 132, '0100 100': 868}\n",
      "num 1: 0, num 2: 5, result: {'0101 101': 142, '0101 100': 858}\n",
      "num 1: 0, num 2: 6, result: {'0110 110': 144, '0110 111': 856}\n",
      "num 1: 0, num 2: 7, result: {'0111 110': 135, '0111 111': 865}\n",
      "num 1: 1, num 2: 0, result: {'0000 001': 1000}\n",
      "num 1: 1, num 2: 1, result: {'0001 001': 1000}\n",
      "num 1: 1, num 2: 2, result: {'0010 011': 468, '0010 010': 532}\n",
      "num 1: 1, num 2: 3, result: {'0011 011': 527, '0011 010': 473}\n",
      "num 1: 1, num 2: 4, result: {'0100 100': 153, '0100 101': 847}\n",
      "num 1: 1, num 2: 5, result: {'0101 100': 136, '0101 101': 864}\n",
      "num 1: 1, num 2: 6, result: {'0110 111': 166, '0110 110': 834}\n",
      "num 1: 1, num 2: 7, result: {'0111 110': 869, '0111 111': 131}\n",
      "num 1: 2, num 2: 0, result: {'0000 010': 1000}\n",
      "num 1: 2, num 2: 1, result: {'0001 010': 1000}\n",
      "num 1: 2, num 2: 2, result: {'0010 001': 508, '0010 000': 492}\n",
      "num 1: 2, num 2: 3, result: {'0011 001': 485, '0011 000': 515}\n",
      "num 1: 2, num 2: 4, result: {'0100 111': 137, '0100 110': 863}\n",
      "num 1: 2, num 2: 5, result: {'0101 111': 167, '0101 110': 833}\n",
      "num 1: 2, num 2: 6, result: {'0110 101': 149, '0110 100': 851}\n",
      "num 1: 2, num 2: 7, result: {'0111 101': 122, '0111 100': 878}\n",
      "num 1: 3, num 2: 0, result: {'0000 011': 1000}\n",
      "num 1: 3, num 2: 1, result: {'0001 011': 1000}\n",
      "num 1: 3, num 2: 2, result: {'0010 001': 492, '0010 000': 508}\n",
      "num 1: 3, num 2: 3, result: {'0011 001': 480, '0011 000': 520}\n",
      "num 1: 3, num 2: 4, result: {'0100 111': 856, '0100 110': 144}\n",
      "num 1: 3, num 2: 5, result: {'0101 110': 140, '0101 111': 860}\n",
      "num 1: 3, num 2: 6, result: {'0110 100': 149, '0110 101': 851}\n",
      "num 1: 3, num 2: 7, result: {'0111 100': 133, '0111 101': 867}\n",
      "num 1: 4, num 2: 0, result: {'0000 100': 1000}\n",
      "num 1: 4, num 2: 1, result: {'0001 100': 1000}\n",
      "num 1: 4, num 2: 2, result: {'0010 110': 516, '0010 111': 484}\n",
      "num 1: 4, num 2: 3, result: {'0011 111': 523, '0011 110': 477}\n",
      "num 1: 4, num 2: 4, result: {'0100 011': 140, '0100 010': 860}\n",
      "num 1: 4, num 2: 5, result: {'0101 011': 133, '0101 010': 867}\n",
      "num 1: 4, num 2: 6, result: {'0110 001': 156, '0110 000': 844}\n",
      "num 1: 4, num 2: 7, result: {'0111 001': 156, '0111 000': 844}\n",
      "num 1: 5, num 2: 0, result: {'0000 101': 1000}\n",
      "num 1: 5, num 2: 1, result: {'0001 101': 1000}\n",
      "num 1: 5, num 2: 2, result: {'0010 111': 499, '0010 110': 501}\n",
      "num 1: 5, num 2: 3, result: {'0011 110': 526, '0011 111': 474}\n",
      "num 1: 5, num 2: 4, result: {'0100 010': 156, '0100 011': 844}\n",
      "num 1: 5, num 2: 5, result: {'0101 010': 153, '0101 011': 847}\n",
      "num 1: 5, num 2: 6, result: {'0110 000': 138, '0110 001': 862}\n",
      "num 1: 5, num 2: 7, result: {'0111 000': 144, '0111 001': 856}\n",
      "num 1: 6, num 2: 0, result: {'0000 110': 1000}\n",
      "num 1: 6, num 2: 1, result: {'0001 110': 1000}\n",
      "num 1: 6, num 2: 2, result: {'0010 100': 487, '0010 101': 513}\n",
      "num 1: 6, num 2: 3, result: {'0011 100': 482, '0011 101': 518}\n",
      "num 1: 6, num 2: 4, result: {'0100 000': 141, '0100 001': 859}\n",
      "num 1: 6, num 2: 5, result: {'0101 000': 150, '0101 001': 850}\n",
      "num 1: 6, num 2: 6, result: {'0110 010': 855, '0110 011': 145}\n",
      "num 1: 6, num 2: 7, result: {'0111 011': 152, '0111 010': 848}\n",
      "num 1: 7, num 2: 0, result: {'0000 111': 1000}\n",
      "num 1: 7, num 2: 1, result: {'0001 111': 1000}\n",
      "num 1: 7, num 2: 2, result: {'0010 101': 516, '0010 100': 484}\n",
      "num 1: 7, num 2: 3, result: {'0011 100': 503, '0011 101': 497}\n",
      "num 1: 7, num 2: 4, result: {'0100 001': 137, '0100 000': 863}\n",
      "num 1: 7, num 2: 5, result: {'0101 001': 174, '0101 000': 826}\n",
      "num 1: 7, num 2: 6, result: {'0110 010': 143, '0110 011': 857}\n",
      "num 1: 7, num 2: 7, result: {'0111 010': 132, '0111 011': 868}\n"
     ]
    }
   ],
   "source": [
    "# test QNMADD\n",
    "def loadNumber(circ: QuantumCircuit, register: QuantumRegister, number: int):\n",
    "    number_in_binary = '0'*(register.size - len(bin(number)[2:])) + bin(number)[2:]\n",
    "    for i in range(len(number_in_binary)):\n",
    "        if number_in_binary[::-1][i] == '1':\n",
    "            circ.x(register[i])\n",
    "            \n",
    "bit_length = 3\n",
    "for first_num in range(2**bit_length):\n",
    "    for second_num in range(2**bit_length):\n",
    "        carry_register = QuantumRegister(1, name=\"c\")\n",
    "        first_register = QuantumRegister(bit_length, name=\"a\")\n",
    "        second_register = QuantumRegister(bit_length, name=\"b\")\n",
    "        first_register_results = ClassicalRegister(bit_length, name=\"a_results\")\n",
    "        second_register_results = ClassicalRegister(bit_length+1, name=\"b_results\")\n",
    "\n",
    "        test_circuit = QuantumCircuit(first_register, second_register,carry_register, first_register_results, second_register_results)\n",
    "\n",
    "        loadNumber(test_circuit, first_register, first_num)\n",
    "        loadNumber(test_circuit, second_register, second_num)\n",
    "\n",
    "        test_circuit.append(build_QMAdd(bit_length, bit_length), first_register[:] + second_register[:]+ carry_register[:])\n",
    "        test_circuit.measure(first_register, first_register_results)\n",
    "        test_circuit.measure(second_register[:]+ carry_register[:], second_register_results)\n",
    "        job = execute(test_circuit, Aer.get_backend('aer_simulator'), shots=1000)\n",
    "        results = job.result()\n",
    "        counts = results.get_counts()\n",
    "        print(\"num 1: {}, num 2: {}, result: {}\".format(first_num, second_num, counts))"
   ]
  },
  {
   "cell_type": "code",
   "execution_count": null,
   "metadata": {},
   "outputs": [],
   "source": []
  }
 ],
 "metadata": {
  "kernelspec": {
   "display_name": "qfinance",
   "language": "python",
   "name": "python3"
  },
  "language_info": {
   "codemirror_mode": {
    "name": "ipython",
    "version": 3
   },
   "file_extension": ".py",
   "mimetype": "text/x-python",
   "name": "python",
   "nbconvert_exporter": "python",
   "pygments_lexer": "ipython3",
   "version": "3.11.5"
  }
 },
 "nbformat": 4,
 "nbformat_minor": 2
}
