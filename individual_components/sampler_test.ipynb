{
 "cells": [
  {
   "cell_type": "code",
   "execution_count": 25,
   "metadata": {},
   "outputs": [
    {
     "name": "stdout",
     "output_type": "stream",
     "text": [
      "SamplerResult(quasi_dists=[{0: 0.521, 1023: 0.479}], metadata=[{'shots': 1000, 'simulator_metadata': {'time_taken': 0.002385249, 'num_bind_params': 1, 'parallel_state_update': 32, 'parallel_shots': 1, 'required_memory_mb': 1, 'input_qubit_map': [[9, 9], [8, 8], [7, 7], [6, 6], [5, 5], [4, 4], [3, 3], [2, 2], [1, 1], [0, 0]], 'method': 'statevector', 'device': 'CPU', 'num_qubits': 10, 'sample_measure_time': 0.000693073, 'active_input_qubits': [0, 1, 2, 3, 4, 5, 6, 7, 8, 9], 'num_clbits': 10, 'remapped_qubits': False, 'runtime_parameter_bind': False, 'max_memory_mb': 64214, 'noise': 'ideal', 'measure_sampling': True, 'batched_shots_optimization': False, 'fusion': {'applied': False, 'max_fused_qubits': 5, 'threshold': 14, 'enabled': True}}}])\n"
     ]
    },
    {
     "ename": "AttributeError",
     "evalue": "'SamplerResult' object has no attribute 'get_statevector'",
     "output_type": "error",
     "traceback": [
      "\u001b[0;31m---------------------------------------------------------------------------\u001b[0m",
      "\u001b[0;31mAttributeError\u001b[0m                            Traceback (most recent call last)",
      "Cell \u001b[0;32mIn[25], line 21\u001b[0m\n\u001b[1;32m     19\u001b[0m result \u001b[38;5;241m=\u001b[39m sampler\u001b[38;5;241m.\u001b[39mrun(circuit)\u001b[38;5;241m.\u001b[39mresult()\n\u001b[1;32m     20\u001b[0m \u001b[38;5;28mprint\u001b[39m(result)\n\u001b[0;32m---> 21\u001b[0m \u001b[43mresult\u001b[49m\u001b[38;5;241;43m.\u001b[39;49m\u001b[43mget_statevector\u001b[49m()\n\u001b[1;32m     22\u001b[0m quasi_dist \u001b[38;5;241m=\u001b[39m result\u001b[38;5;241m.\u001b[39mquasi_dists\n\u001b[1;32m     23\u001b[0m quasi_dist[\u001b[38;5;241m0\u001b[39m]\u001b[38;5;241m.\u001b[39mbinary_probabilities()\n",
      "\u001b[0;31mAttributeError\u001b[0m: 'SamplerResult' object has no attribute 'get_statevector'"
     ]
    }
   ],
   "source": [
    "from qiskit import QuantumCircuit\n",
    "from qiskit_aer import AerSimulator\n",
    "from qiskit_aer.primitives import Sampler\n",
    "\n",
    "def create_ghz_circuit(n_qubits):\n",
    "    circuit = QuantumCircuit(n_qubits)\n",
    "    circuit.h(0)\n",
    "    for qubit in range(n_qubits - 1):\n",
    "        circuit.cx(qubit, qubit + 1)\n",
    "    return circuit\n",
    "\n",
    "n_qubits = 10\n",
    "\n",
    "circuit = create_ghz_circuit(n_qubits=n_qubits)\n",
    "circuit.measure_all()\n",
    "\n",
    "sampler = Sampler(backend_options={\"method\":\"statevector\"},run_options={\"shots\":100})\n",
    "sampler.set_options(shots=1000)\n",
    "result = sampler.run(circuit).result()\n",
    "print(result)\n",
    "result.get_statevector()\n",
    "quasi_dist = result.quasi_dists\n",
    "quasi_dist[0].binary_probabilities()\n",
    "print(sampler._backend.name)\n"
   ]
  },
  {
   "cell_type": "code",
   "execution_count": null,
   "metadata": {},
   "outputs": [],
   "source": []
  }
 ],
 "metadata": {
  "kernelspec": {
   "display_name": "qfinance",
   "language": "python",
   "name": "python3"
  },
  "language_info": {
   "codemirror_mode": {
    "name": "ipython",
    "version": 3
   },
   "file_extension": ".py",
   "mimetype": "text/x-python",
   "name": "python",
   "nbconvert_exporter": "python",
   "pygments_lexer": "ipython3",
   "version": "3.11.7"
  }
 },
 "nbformat": 4,
 "nbformat_minor": 2
}
