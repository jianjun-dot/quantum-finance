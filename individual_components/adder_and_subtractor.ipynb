{
 "cells": [
  {
   "cell_type": "markdown",
   "metadata": {},
   "source": [
    "# Adder\n",
    "\n",
    "Adding is quite straightforward, with the necessary circuits provides by qiskit"
   ]
  },
  {
   "cell_type": "code",
   "execution_count": 5,
   "metadata": {},
   "outputs": [
    {
     "name": "stdout",
     "output_type": "stream",
     "text": [
      "13\n"
     ]
    },
    {
     "data": {
      "text/html": [
       "<pre style=\"word-wrap: normal;white-space: pre;background: #fff0;line-height: 1.1;font-family: &quot;Courier New&quot;,Courier,monospace\">                           ░ ┌─────────┐ ░                                     \n",
       "              carry: ──────░─┤0        ├─░─────────────────────────────────────\n",
       "                           ░ │         │ ░ ┌─┐                                 \n",
       "            first_0: ──────░─┤1        ├─░─┤M├─────────────────────────────────\n",
       "                     ┌───┐ ░ │         │ ░ └╥┘┌─┐                              \n",
       "            first_1: ┤ X ├─░─┤2        ├─░──╫─┤M├──────────────────────────────\n",
       "                     └───┘ ░ │         │ ░  ║ └╥┘┌─┐                           \n",
       "            first_2: ──────░─┤3        ├─░──╫──╫─┤M├───────────────────────────\n",
       "                           ░ │         │ ░  ║  ║ └╥┘┌─┐                        \n",
       "            first_3: ──────░─┤4        ├─░──╫──╫──╫─┤M├────────────────────────\n",
       "                     ┌───┐ ░ │         │ ░  ║  ║  ║ └╥┘┌─┐                     \n",
       "           second_0: ┤ X ├─░─┤5        ├─░──╫──╫──╫──╫─┤M├─────────────────────\n",
       "                     └───┘ ░ │         │ ░  ║  ║  ║  ║ └╥┘┌─┐                  \n",
       "           second_1: ──────░─┤6  Adder ├─░──╫──╫──╫──╫──╫─┤M├──────────────────\n",
       "                           ░ │         │ ░  ║  ║  ║  ║  ║ └╥┘┌─┐               \n",
       "           second_2: ──────░─┤7        ├─░──╫──╫──╫──╫──╫──╫─┤M├───────────────\n",
       "                           ░ │         │ ░  ║  ║  ║  ║  ║  ║ └╥┘┌─┐            \n",
       "           second_3: ──────░─┤8        ├─░──╫──╫──╫──╫──╫──╫──╫─┤M├────────────\n",
       "                           ░ │         │ ░  ║  ║  ║  ║  ║  ║  ║ └╥┘┌─┐         \n",
       "          ancilla_0: ──────░─┤9        ├─░──╫──╫──╫──╫──╫──╫──╫──╫─┤M├─────────\n",
       "                           ░ │         │ ░  ║  ║  ║  ║  ║  ║  ║  ║ └╥┘┌─┐      \n",
       "          ancilla_1: ──────░─┤10       ├─░──╫──╫──╫──╫──╫──╫──╫──╫──╫─┤M├──────\n",
       "                           ░ │         │ ░  ║  ║  ║  ║  ║  ║  ║  ║  ║ └╥┘┌─┐   \n",
       "          ancilla_2: ──────░─┤11       ├─░──╫──╫──╫──╫──╫──╫──╫──╫──╫──╫─┤M├───\n",
       "                           ░ │         │ ░  ║  ║  ║  ║  ║  ║  ║  ║  ║  ║ └╥┘┌─┐\n",
       "          ancilla_3: ──────░─┤12       ├─░──╫──╫──╫──╫──╫──╫──╫──╫──╫──╫──╫─┤M├\n",
       "                           ░ └─────────┘ ░  ║  ║  ║  ║  ║  ║  ║  ║  ║  ║  ║ └╥┘\n",
       "  first_classical: 4/═══════════════════════╩══╩══╩══╩══╬══╬══╬══╬══╬══╬══╬══╬═\n",
       "                                            0  1  2  3  ║  ║  ║  ║  ║  ║  ║  ║ \n",
       " second_classical: 4/═══════════════════════════════════╩══╩══╩══╩══╬══╬══╬══╬═\n",
       "                                                        0  1  2  3  ║  ║  ║  ║ \n",
       "ancilla_classical: 4/═══════════════════════════════════════════════╩══╩══╩══╩═\n",
       "                                                                    0  1  2  3 </pre>"
      ],
      "text/plain": [
       "                           ░ ┌─────────┐ ░                                     \n",
       "              carry: ──────░─┤0        ├─░─────────────────────────────────────\n",
       "                           ░ │         │ ░ ┌─┐                                 \n",
       "            first_0: ──────░─┤1        ├─░─┤M├─────────────────────────────────\n",
       "                     ┌───┐ ░ │         │ ░ └╥┘┌─┐                              \n",
       "            first_1: ┤ X ├─░─┤2        ├─░──╫─┤M├──────────────────────────────\n",
       "                     └───┘ ░ │         │ ░  ║ └╥┘┌─┐                           \n",
       "            first_2: ──────░─┤3        ├─░──╫──╫─┤M├───────────────────────────\n",
       "                           ░ │         │ ░  ║  ║ └╥┘┌─┐                        \n",
       "            first_3: ──────░─┤4        ├─░──╫──╫──╫─┤M├────────────────────────\n",
       "                     ┌───┐ ░ │         │ ░  ║  ║  ║ └╥┘┌─┐                     \n",
       "           second_0: ┤ X ├─░─┤5        ├─░──╫──╫──╫──╫─┤M├─────────────────────\n",
       "                     └───┘ ░ │         │ ░  ║  ║  ║  ║ └╥┘┌─┐                  \n",
       "           second_1: ──────░─┤6  Adder ├─░──╫──╫──╫──╫──╫─┤M├──────────────────\n",
       "                           ░ │         │ ░  ║  ║  ║  ║  ║ └╥┘┌─┐               \n",
       "           second_2: ──────░─┤7        ├─░──╫──╫──╫──╫──╫──╫─┤M├───────────────\n",
       "                           ░ │         │ ░  ║  ║  ║  ║  ║  ║ └╥┘┌─┐            \n",
       "           second_3: ──────░─┤8        ├─░──╫──╫──╫──╫──╫──╫──╫─┤M├────────────\n",
       "                           ░ │         │ ░  ║  ║  ║  ║  ║  ║  ║ └╥┘┌─┐         \n",
       "          ancilla_0: ──────░─┤9        ├─░──╫──╫──╫──╫──╫──╫──╫──╫─┤M├─────────\n",
       "                           ░ │         │ ░  ║  ║  ║  ║  ║  ║  ║  ║ └╥┘┌─┐      \n",
       "          ancilla_1: ──────░─┤10       ├─░──╫──╫──╫──╫──╫──╫──╫──╫──╫─┤M├──────\n",
       "                           ░ │         │ ░  ║  ║  ║  ║  ║  ║  ║  ║  ║ └╥┘┌─┐   \n",
       "          ancilla_2: ──────░─┤11       ├─░──╫──╫──╫──╫──╫──╫──╫──╫──╫──╫─┤M├───\n",
       "                           ░ │         │ ░  ║  ║  ║  ║  ║  ║  ║  ║  ║  ║ └╥┘┌─┐\n",
       "          ancilla_3: ──────░─┤12       ├─░──╫──╫──╫──╫──╫──╫──╫──╫──╫──╫──╫─┤M├\n",
       "                           ░ └─────────┘ ░  ║  ║  ║  ║  ║  ║  ║  ║  ║  ║  ║ └╥┘\n",
       "  first_classical: 4/═══════════════════════╩══╩══╩══╩══╬══╬══╬══╬══╬══╬══╬══╬═\n",
       "                                            0  1  2  3  ║  ║  ║  ║  ║  ║  ║  ║ \n",
       " second_classical: 4/═══════════════════════════════════╩══╩══╩══╩══╬══╬══╬══╬═\n",
       "                                                        0  1  2  3  ║  ║  ║  ║ \n",
       "ancilla_classical: 4/═══════════════════════════════════════════════╩══╩══╩══╩═\n",
       "                                                                    0  1  2  3 "
      ]
     },
     "execution_count": 5,
     "metadata": {},
     "output_type": "execute_result"
    }
   ],
   "source": [
    "from qiskit import QuantumCircuit, QuantumRegister, ClassicalRegister, execute, Aer\n",
    "from qiskit.circuit.library import VBERippleCarryAdder\n",
    "\n",
    "# we do an example of 5 + 3 in a 4-bit registers\n",
    "\n",
    "bitLength = 4\n",
    "\n",
    "firstRegister = QuantumRegister(bitLength, 'first')\n",
    "secondRegister = QuantumRegister(bitLength, 'second')\n",
    "carryRegister = QuantumRegister(1, 'carry')\n",
    "ancillaRegister = QuantumRegister(bitLength, 'ancilla')\n",
    "firstClassicalRegister = ClassicalRegister(bitLength, 'first_classical')\n",
    "secondClassicalRegister = ClassicalRegister(bitLength, 'second_classical')\n",
    "ancillaClassicalRegister = ClassicalRegister(bitLength, 'ancilla_classical')\n",
    "\n",
    "adder = VBERippleCarryAdder(bitLength, name=\"Adder\")\n",
    "num_qubits = len(adder.qubits)\n",
    "\n",
    "print(num_qubits)\n",
    "# define number loader\n",
    "def loadNumber(circ: QuantumCircuit, register: QuantumRegister, number: int):\n",
    "    number_in_binary = '0'*(register.size - len(bin(number)[2:])) + bin(number)[2:]\n",
    "    \n",
    "    for i in range(len(number_in_binary)):\n",
    "        if number_in_binary[::-1][i] == '1':\n",
    "            circ.x(register[i])\n",
    "\n",
    "firstNumber = 2\n",
    "secondNumber = 1\n",
    "circ = QuantumCircuit(carryRegister, firstRegister, secondRegister, ancillaRegister, firstClassicalRegister, secondClassicalRegister, ancillaClassicalRegister)\n",
    "\n",
    "# load first number\n",
    "loadNumber(circ, firstRegister, firstNumber)\n",
    "# load second number\n",
    "loadNumber(circ, secondRegister, secondNumber)\n",
    "\n",
    "circ.barrier()\n",
    "\n",
    "circ.append(adder, list(range(num_qubits)))\n",
    "circ.barrier()\n",
    "circ.measure(firstRegister, firstClassicalRegister)\n",
    "circ.measure(secondRegister, secondClassicalRegister)\n",
    "circ.measure(ancillaRegister, ancillaClassicalRegister)\n",
    "circ.draw()\n"
   ]
  },
  {
   "cell_type": "code",
   "execution_count": 6,
   "metadata": {},
   "outputs": [
    {
     "name": "stdout",
     "output_type": "stream",
     "text": [
      "{'0000 0011 0010': 1000}\n"
     ]
    }
   ],
   "source": [
    "job = execute(circ, Aer.get_backend('qasm_simulator'), shots=1000)\n",
    "counts = job.result().get_counts()\n",
    "print(counts)"
   ]
  },
  {
   "cell_type": "code",
   "execution_count": 3,
   "metadata": {},
   "outputs": [
    {
     "name": "stdout",
     "output_type": "stream",
     "text": [
      "0 + 0  {'0000': 1000}\n",
      "0 + 1  {'0001': 1000}\n",
      "0 + 2  {'0010': 1000}\n",
      "0 + 3  {'0011': 1000}\n",
      "0 + 4  {'0100': 1000}\n",
      "0 + 5  {'0101': 1000}\n",
      "1 + 0  {'0001': 1000}\n",
      "1 + 1  {'0010': 1000}\n",
      "1 + 2  {'0011': 1000}\n",
      "1 + 3  {'0100': 1000}\n",
      "1 + 4  {'0101': 1000}\n",
      "1 + 5  {'0110': 1000}\n",
      "2 + 0  {'0010': 1000}\n",
      "2 + 1  {'0011': 1000}\n",
      "2 + 2  {'0100': 1000}\n",
      "2 + 3  {'0101': 1000}\n",
      "2 + 4  {'0110': 1000}\n",
      "2 + 5  {'0111': 1000}\n",
      "3 + 0  {'0011': 1000}\n",
      "3 + 1  {'0100': 1000}\n",
      "3 + 2  {'0101': 1000}\n",
      "3 + 3  {'0110': 1000}\n",
      "3 + 4  {'0111': 1000}\n",
      "3 + 5  {'1000': 1000}\n",
      "4 + 0  {'0100': 1000}\n",
      "4 + 1  {'0101': 1000}\n",
      "4 + 2  {'0110': 1000}\n",
      "4 + 3  {'0111': 1000}\n",
      "4 + 4  {'1000': 1000}\n",
      "4 + 5  {'1001': 1000}\n",
      "5 + 0  {'0101': 1000}\n",
      "5 + 1  {'0110': 1000}\n",
      "5 + 2  {'0111': 1000}\n",
      "5 + 3  {'1000': 1000}\n",
      "5 + 4  {'1001': 1000}\n",
      "5 + 5  {'1010': 1000}\n"
     ]
    }
   ],
   "source": [
    "def resultToNumber(counts: dict):\n",
    "    results_dict = {}\n",
    "    for keys, value in counts.items():\n",
    "        splitted_measurements = keys.split(' ')\n",
    "        # output = int(splitted_measurements[1], 2)\n",
    "        output = splitted_measurements[1]\n",
    "        results_dict[output] = value\n",
    "    return results_dict\n",
    "\n",
    "for firstNumber in range(6):\n",
    "    for secondNumber in range(6):\n",
    "        circ = QuantumCircuit(carryRegister, firstRegister, secondRegister, ancillaRegister, firstClassicalRegister, secondClassicalRegister, ancillaClassicalRegister)\n",
    "        # load first number\n",
    "        loadNumber(circ, firstRegister, firstNumber)\n",
    "        # load second number\n",
    "        loadNumber(circ, secondRegister, secondNumber)\n",
    "        circ.barrier()\n",
    "        circ.append(adder, list(range(num_qubits)))\n",
    "        circ.barrier()\n",
    "        circ.measure(firstRegister, firstClassicalRegister)\n",
    "        circ.measure(secondRegister, secondClassicalRegister)\n",
    "        circ.measure(ancillaRegister, ancillaClassicalRegister)\n",
    "\n",
    "        job = execute(circ, Aer.get_backend('qasm_simulator'), shots=1000)\n",
    "        counts = job.result().get_counts()\n",
    "        processed_counts = resultToNumber(counts)\n",
    "        print(\"{} + {} \".format(firstNumber, secondNumber), processed_counts)\n",
    "        \n"
   ]
  },
  {
   "cell_type": "markdown",
   "metadata": {},
   "source": [
    "# subtractor\n",
    "\n",
    "Subtraction can work by \n",
    "$$a-b = a + \\neg ||b|| +1$$\n",
    "\n",
    "key thing to take note here is the range of values"
   ]
  },
  {
   "cell_type": "code",
   "execution_count": 8,
   "metadata": {},
   "outputs": [
    {
     "name": "stdout",
     "output_type": "stream",
     "text": [
      "0 - 0  {'0000': 1000}\n",
      "0 - 1  {'1111': 1000}\n",
      "0 - 2  {'1110': 1000}\n",
      "0 - 3  {'1101': 1000}\n",
      "0 - 4  {'1100': 1000}\n",
      "0 - 5  {'1011': 1000}\n",
      "1 - 0  {'0001': 1000}\n",
      "1 - 1  {'0000': 1000}\n",
      "1 - 2  {'1111': 1000}\n",
      "1 - 3  {'1110': 1000}\n",
      "1 - 4  {'1101': 1000}\n",
      "1 - 5  {'1100': 1000}\n",
      "2 - 0  {'0010': 1000}\n",
      "2 - 1  {'0001': 1000}\n",
      "2 - 2  {'0000': 1000}\n",
      "2 - 3  {'1111': 1000}\n",
      "2 - 4  {'1110': 1000}\n",
      "2 - 5  {'1101': 1000}\n",
      "3 - 0  {'0011': 1000}\n",
      "3 - 1  {'0010': 1000}\n",
      "3 - 2  {'0001': 1000}\n",
      "3 - 3  {'0000': 1000}\n",
      "3 - 4  {'1111': 1000}\n",
      "3 - 5  {'1110': 1000}\n",
      "4 - 0  {'0100': 1000}\n",
      "4 - 1  {'0011': 1000}\n",
      "4 - 2  {'0010': 1000}\n",
      "4 - 3  {'0001': 1000}\n",
      "4 - 4  {'0000': 1000}\n",
      "4 - 5  {'1111': 1000}\n",
      "5 - 0  {'0101': 1000}\n",
      "5 - 1  {'0100': 1000}\n",
      "5 - 2  {'0011': 1000}\n",
      "5 - 3  {'0010': 1000}\n",
      "5 - 4  {'0001': 1000}\n",
      "5 - 5  {'0000': 1000}\n"
     ]
    }
   ],
   "source": [
    "for firstNumber in range(6):\n",
    "    for secondNumber in range(6):\n",
    "        circ = QuantumCircuit(carryRegister, firstRegister, secondRegister, ancillaRegister, firstClassicalRegister, secondClassicalRegister, ancillaClassicalRegister)\n",
    "        # load first number\n",
    "        loadNumber(circ, firstRegister, firstNumber)\n",
    "        # load second number\n",
    "        loadNumber(circ, secondRegister, secondNumber)\n",
    "        circ.barrier()\n",
    "        circ.x(secondRegister)\n",
    "        circ.x(carryRegister)\n",
    "        circ.append(adder, list(range(num_qubits)))\n",
    "        circ.barrier()\n",
    "        circ.measure(firstRegister, firstClassicalRegister)\n",
    "        circ.measure(secondRegister, secondClassicalRegister)\n",
    "        circ.measure(ancillaRegister, ancillaClassicalRegister)\n",
    "\n",
    "        job = execute(circ, Aer.get_backend('qasm_simulator'), shots=1000)\n",
    "        counts = job.result().get_counts()\n",
    "        processed_counts = resultToNumber(counts)\n",
    "        print(\"{} - {} \".format(firstNumber, secondNumber), processed_counts)"
   ]
  },
  {
   "cell_type": "code",
   "execution_count": null,
   "metadata": {},
   "outputs": [],
   "source": []
  }
 ],
 "metadata": {
  "kernelspec": {
   "display_name": "qfinance",
   "language": "python",
   "name": "python3"
  },
  "language_info": {
   "codemirror_mode": {
    "name": "ipython",
    "version": 3
   },
   "file_extension": ".py",
   "mimetype": "text/x-python",
   "name": "python",
   "nbconvert_exporter": "python",
   "pygments_lexer": "ipython3",
   "version": "3.11.5"
  }
 },
 "nbformat": 4,
 "nbformat_minor": 2
}
