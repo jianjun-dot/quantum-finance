{
 "cells": [
  {
   "cell_type": "markdown",
   "metadata": {},
   "source": [
    "## Test vanilla call option"
   ]
  },
  {
   "cell_type": "code",
   "execution_count": 2,
   "metadata": {},
   "outputs": [],
   "source": [
    "from package.option_pricing import OptionPricing, OptionParams\n",
    "\n",
    "\n",
    "## define options\n",
    "myOptionParams = OptionParams(num_uncertainty_qubits=3, option_type=\"call\")\n",
    "myOptionParams.add_variable(\n",
    "    {\n",
    "    'S': 2.0,  # initial spot price\n",
    "    'vol': 0.4 , # volatility of 40%\n",
    "    \"r\": 0.05,  # annual interest rate of 4%\n",
    "    \"T\": 40 / 365 , # 40 days to maturity\n",
    "    }\n",
    ")\n",
    "\n",
    "myOptionParams.define_strike_prices(1.896)\n",
    "myOptionPricer = OptionPricing(myOptionParams)"
   ]
  },
  {
   "cell_type": "code",
   "execution_count": 3,
   "metadata": {},
   "outputs": [
    {
     "name": "stdout",
     "output_type": "stream",
     "text": [
      "(0.21456428580561013, array([0.21062116, 0.21850741]))\n",
      "0.21463208948393556\n"
     ]
    }
   ],
   "source": [
    "print(myOptionPricer.estimate_expectation(epsilon=0.001))\n",
    "print(myOptionPricer.compute_exact_expectation())"
   ]
  },
  {
   "cell_type": "markdown",
   "metadata": {},
   "source": [
    "## Test basket call"
   ]
  },
  {
   "cell_type": "code",
   "execution_count": 4,
   "metadata": {},
   "outputs": [],
   "source": [
    "\n",
    "import numpy as np\n",
    "from package.option_pricing import OptionPricing, OptionParams\n",
    "## define options\n",
    "myOptionParams = OptionParams(num_uncertainty_qubits=3, option_type=\"basket call\")\n",
    "myOptionParams.add_variable(\n",
    "    {\n",
    "    'S': 2.0,  # initial spot price\n",
    "    'vol': 0.4 , # volatility of 40%\n",
    "    \"r\": 0.05,  # annual interest rate of 4%\n",
    "    \"T\": 40 / 365 , # 40 days to maturity\n",
    "    }\n",
    ")\n",
    "myOptionParams.add_variable(\n",
    "    {\n",
    "    'S': 2.0,  # initial spot price\n",
    "    'vol': 0.4 , # volatility of 40%\n",
    "    \"r\": 0.05,  # annual interest rate of 4%\n",
    "    \"T\": 40 / 365 , # 40 days to maturity\n",
    "    }\n",
    ")\n",
    "\n",
    "sigma = 0.4 * np.sqrt(40/365)\n",
    "cov = np.array(\n",
    "    [\n",
    "        [sigma**2, 0],\n",
    "        [0, sigma**2]\n",
    "    ]\n",
    ")\n",
    "\n",
    "myOptionParams.define_covariance_matrix(cov)\n",
    "myOptionParams.define_strike_prices(3.5)\n",
    "\n",
    "myOptionPricer = OptionPricing(myOptionParams)\n"
   ]
  },
  {
   "cell_type": "code",
   "execution_count": 5,
   "metadata": {},
   "outputs": [
    {
     "name": "stdout",
     "output_type": "stream",
     "text": [
      "(0.5253868037883133, array([0.48193879, 0.56883481]))\n",
      "0.529376446259968\n"
     ]
    }
   ],
   "source": [
    "print(myOptionPricer.estimate_expectation())\n",
    "print(myOptionPricer.compute_exact_expectation())"
   ]
  },
  {
   "cell_type": "markdown",
   "metadata": {},
   "source": [
    "## Test Call-on-max"
   ]
  },
  {
   "cell_type": "code",
   "execution_count": 6,
   "metadata": {},
   "outputs": [],
   "source": [
    "import numpy as np\n",
    "from package.option_pricing import OptionPricing, OptionParams\n",
    "## define options\n",
    "myOptionParams = OptionParams(num_uncertainty_qubits=3, option_type=\"call-on-max\")\n",
    "myOptionParams.add_variable(\n",
    "    {\n",
    "    'S': 2.0,  # initial spot price\n",
    "    'vol': 0.4 , # volatility of 40%\n",
    "    \"r\": 0.05,  # annual interest rate of 4%\n",
    "    \"T\": 40 / 365 , # 40 days to maturity\n",
    "    }\n",
    ")\n",
    "myOptionParams.add_variable(\n",
    "    {\n",
    "    'S': 2.0,  # initial spot price\n",
    "    'vol': 0.4 , # volatility of 40%\n",
    "    \"r\": 0.05,  # annual interest rate of 4%\n",
    "    \"T\": 40 / 365 , # 40 days to maturity\n",
    "    }\n",
    ")\n",
    "\n",
    "sigma = 0.4 * np.sqrt(40/365)\n",
    "cov = np.array(\n",
    "    [\n",
    "        [sigma**2, 0],\n",
    "        [0, sigma**2]\n",
    "    ]\n",
    ")\n",
    "\n",
    "myOptionParams.define_covariance_matrix(cov)\n",
    "myOptionParams.define_strike_prices(1.896)\n",
    "\n",
    "myOptionPricer = OptionPricing(myOptionParams)"
   ]
  },
  {
   "cell_type": "code",
   "execution_count": 7,
   "metadata": {},
   "outputs": [
    {
     "name": "stdout",
     "output_type": "stream",
     "text": [
      "(0.269885534083412, array([0.25407802, 0.28569305]))\n",
      "0.26565115188223226\n"
     ]
    }
   ],
   "source": [
    "print(myOptionPricer.estimate_expectation())\n",
    "print(myOptionPricer.compute_exact_expectation())"
   ]
  },
  {
   "cell_type": "markdown",
   "metadata": {},
   "source": [
    "## Test Call-on-min"
   ]
  },
  {
   "cell_type": "code",
   "execution_count": 8,
   "metadata": {},
   "outputs": [],
   "source": [
    "import numpy as np\n",
    "from package.option_pricing import OptionPricing, OptionParams\n",
    "## define options\n",
    "myOptionParams = OptionParams(num_uncertainty_qubits=3, option_type=\"call-on-min\")\n",
    "myOptionParams.add_variable(\n",
    "    {\n",
    "    'S': 2.0,  # initial spot price\n",
    "    'vol': 0.4 , # volatility of 40%\n",
    "    \"r\": 0.05,  # annual interest rate of 4%\n",
    "    \"T\": 40 / 365 , # 40 days to maturity\n",
    "    }\n",
    ")\n",
    "myOptionParams.add_variable(\n",
    "    {\n",
    "    'S': 2.0,  # initial spot price\n",
    "    'vol': 0.4 , # volatility of 40%\n",
    "    \"r\": 0.05,  # annual interest rate of 4%\n",
    "    \"T\": 40 / 365 , # 40 days to maturity\n",
    "    }\n",
    ")\n",
    "\n",
    "sigma = 0.4 * np.sqrt(40/365)\n",
    "cov = np.array(\n",
    "    [\n",
    "        [sigma**2, 0],\n",
    "        [0, sigma**2]\n",
    "    ]\n",
    ")\n",
    "\n",
    "myOptionParams.define_covariance_matrix(cov)\n",
    "myOptionParams.define_strike_prices(1.896)\n",
    "\n",
    "myOptionPricer = OptionPricing(myOptionParams)"
   ]
  },
  {
   "cell_type": "code",
   "execution_count": 9,
   "metadata": {},
   "outputs": [
    {
     "name": "stdout",
     "output_type": "stream",
     "text": [
      "(0.0873640880091915, array([0.06900521, 0.10572296]))\n",
      "0.08959473317246276\n"
     ]
    }
   ],
   "source": [
    "print(myOptionPricer.estimate_expectation())\n",
    "print(myOptionPricer.compute_exact_expectation())"
   ]
  },
  {
   "cell_type": "markdown",
   "metadata": {},
   "source": [
    "# Spread Call"
   ]
  },
  {
   "cell_type": "code",
   "execution_count": 11,
   "metadata": {},
   "outputs": [],
   "source": [
    "import numpy as np\n",
    "from package.option_pricing import OptionPricing, OptionParams\n",
    "## define options\n",
    "myOptionParams = OptionParams(num_uncertainty_qubits=3, option_type=\"spread call\")\n",
    "myOptionParams.add_variable(\n",
    "    {\n",
    "    'S': 0.5,  \n",
    "    'vol': 0.5 , \n",
    "    \"r\": 0.04,  \n",
    "    \"T\": 40 / 365 , \n",
    "    }\n",
    ")\n",
    "myOptionParams.add_variable(\n",
    "    {\n",
    "    'S': 0.5,  \n",
    "    'vol': 0.5 , \n",
    "    \"r\": 0.04,  \n",
    "    \"T\": 40 / 365 , \n",
    "    }\n",
    ")\n",
    "\n",
    "sigma = 0.5 * np.sqrt(40/365)\n",
    "cov = np.array(\n",
    "    [\n",
    "        [sigma**2, 0],\n",
    "        [0, sigma**2]\n",
    "    ]\n",
    ")\n",
    "\n",
    "myOptionParams.define_covariance_matrix(cov)\n",
    "myOptionParams.define_strike_prices(0.08)\n",
    "\n",
    "myOptionPricer = OptionPricing(myOptionParams)"
   ]
  },
  {
   "cell_type": "code",
   "execution_count": 12,
   "metadata": {},
   "outputs": [
    {
     "name": "stdout",
     "output_type": "stream",
     "text": [
      "9\n",
      "(0.017769035070285925, array([0.01609323, 0.01944485]))\n",
      "0.017733273598673514\n"
     ]
    }
   ],
   "source": [
    "print(myOptionPricer.estimate_expectation(epsilon=0.001, alpha=0.005, shots=100000))\n",
    "print(myOptionPricer.compute_exact_expectation())"
   ]
  },
  {
   "cell_type": "code",
   "execution_count": null,
   "metadata": {},
   "outputs": [],
   "source": []
  }
 ],
 "metadata": {
  "kernelspec": {
   "display_name": "qfinance",
   "language": "python",
   "name": "python3"
  },
  "language_info": {
   "codemirror_mode": {
    "name": "ipython",
    "version": 3
   },
   "file_extension": ".py",
   "mimetype": "text/x-python",
   "name": "python",
   "nbconvert_exporter": "python",
   "pygments_lexer": "ipython3",
   "version": "3.11.5"
  }
 },
 "nbformat": 4,
 "nbformat_minor": 2
}
