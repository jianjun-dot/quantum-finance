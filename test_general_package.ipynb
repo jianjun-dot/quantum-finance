{
 "cells": [
  {
   "cell_type": "markdown",
   "metadata": {},
   "source": [
    "## Test vanilla call option"
   ]
  },
  {
   "cell_type": "code",
   "execution_count": 1,
   "metadata": {},
   "outputs": [],
   "source": [
    "from qfinance.option_pricing import OptionPricing, OptionParams\n",
    "\n",
    "\n",
    "## define options\n",
    "myOptionParams = OptionParams(num_uncertainty_qubits=3, option_type=\"call\")\n",
    "myOptionParams.add_variable(\n",
    "    {\n",
    "    'S': 2.0,  # initial spot price\n",
    "    'vol': 0.4 , # volatility of 40%\n",
    "    \"r\": 0.05,  # annual interest rate of 4%\n",
    "    \"T\": 40 / 365 , # 40 days to maturity\n",
    "    }\n",
    ")\n",
    "\n",
    "myOptionParams.set_strike_prices(1.9)\n",
    "myOptionPricer = OptionPricing(myOptionParams)"
   ]
  },
  {
   "cell_type": "code",
   "execution_count": 2,
   "metadata": {},
   "outputs": [
    {
     "name": "stdout",
     "output_type": "stream",
     "text": [
      "Estimated payoff: 0.20754737309197208\n",
      "Exact payoff: 0.21276213411148376\n",
      "Confidence interval: [0.18671415 0.2283806 ]\n"
     ]
    }
   ],
   "source": [
    "estimate, conf_int = myOptionPricer.estimate_expectation(epsilon=0.01)\n",
    "exact_expectation = myOptionPricer.compute_exact_expectation()\n",
    "print(f\"Estimated payoff: {estimate}\")\n",
    "print(f\"Exact payoff: {exact_expectation}\")\n",
    "print(f\"Confidence interval: {conf_int}\")"
   ]
  },
  {
   "cell_type": "markdown",
   "metadata": {},
   "source": [
    "## Test basket call"
   ]
  },
  {
   "cell_type": "code",
   "execution_count": 1,
   "metadata": {},
   "outputs": [],
   "source": [
    "import numpy as np\n",
    "from qfinance.option_pricing import OptionPricing, OptionParams\n",
    "## define options\n",
    "myOptionParams = OptionParams(num_uncertainty_qubits=3, option_type=\"basket call\")\n",
    "myOptionParams.add_variable(\n",
    "    {\n",
    "    'S': 2.0,  # initial spot price\n",
    "    'vol': 0.4 , # volatility of 40%\n",
    "    \"r\": 0.05,  # annual interest rate of 4%\n",
    "    \"T\": 40 / 365 , # 40 days to maturity\n",
    "    }\n",
    ")\n",
    "myOptionParams.add_variable(\n",
    "    {\n",
    "    'S': 2.0,  # initial spot price\n",
    "    'vol': 0.4 , # volatility of 40%\n",
    "    \"r\": 0.05,  # annual interest rate of 4%\n",
    "    \"T\": 40 / 365 , # 40 days to maturity\n",
    "    }\n",
    ")\n",
    "\n",
    "correlation = 0.2\n",
    "\n",
    "myOptionParams.set_covariance_matrix(correlation)\n",
    "myOptionParams.set_strike_prices(3.5)\n",
    "\n",
    "myOptionPricer = OptionPricing(myOptionParams)\n"
   ]
  },
  {
   "cell_type": "code",
   "execution_count": 2,
   "metadata": {},
   "outputs": [
    {
     "name": "stdout",
     "output_type": "stream",
     "text": [
      "Estimated payoff: 0.2611364100124361\n",
      "Exact payoff: 0.2768454180453381\n",
      "Confidence interval: [0.135664   0.38660882]\n"
     ]
    }
   ],
   "source": [
    "estimate, conf_int = myOptionPricer.estimate_expectation(epsilon=0.01)\n",
    "exact_expectation = myOptionPricer.compute_exact_expectation()\n",
    "print(f\"Estimated payoff: {estimate}\")\n",
    "print(f\"Exact payoff: {exact_expectation}\")\n",
    "print(f\"Confidence interval: {conf_int}\")"
   ]
  },
  {
   "cell_type": "markdown",
   "metadata": {},
   "source": [
    "## Test Call-on-max"
   ]
  },
  {
   "cell_type": "code",
   "execution_count": 5,
   "metadata": {},
   "outputs": [],
   "source": [
    "import numpy as np\n",
    "from qfinance.option_pricing import OptionPricing, OptionParams\n",
    "## define options\n",
    "myOptionParams = OptionParams(num_uncertainty_qubits=3, option_type=\"call-on-max\")\n",
    "myOptionParams.add_variable(\n",
    "    {\n",
    "    'S': 2.0,  # initial spot price\n",
    "    'vol': 0.4 , # volatility of 40%\n",
    "    \"r\": 0.05,  # annual interest rate of 4%\n",
    "    \"T\": 40 / 365 , # 40 days to maturity\n",
    "    }\n",
    ")\n",
    "myOptionParams.add_variable(\n",
    "    {\n",
    "    'S': 2.0,  # initial spot price\n",
    "    'vol': 0.4 , # volatility of 40%\n",
    "    \"r\": 0.05,  # annual interest rate of 4%\n",
    "    \"T\": 40 / 365 , # 40 days to maturity\n",
    "    }\n",
    ")\n",
    "correlation = 0.2\n",
    "\n",
    "myOptionParams.set_covariance_matrix(correlation)\n",
    "myOptionParams.set_strike_prices(1.896)\n",
    "\n",
    "myOptionPricer = OptionPricing(myOptionParams)"
   ]
  },
  {
   "cell_type": "code",
   "execution_count": 6,
   "metadata": {},
   "outputs": [
    {
     "name": "stdout",
     "output_type": "stream",
     "text": [
      "Estimated payoff: 0.34079033866422026\n",
      "Exact payoff: 0.35051134362702135\n",
      "Confidence interval: [0.31190734 0.36967334]\n"
     ]
    }
   ],
   "source": [
    "estimate, conf_int = myOptionPricer.estimate_expectation(epsilon=0.01)\n",
    "exact_expectation = myOptionPricer.compute_exact_expectation()\n",
    "print(f\"Estimated payoff: {estimate}\")\n",
    "print(f\"Exact payoff: {exact_expectation}\")\n",
    "print(f\"Confidence interval: {conf_int}\")"
   ]
  },
  {
   "cell_type": "markdown",
   "metadata": {},
   "source": [
    "## Test Call-on-min"
   ]
  },
  {
   "cell_type": "code",
   "execution_count": 3,
   "metadata": {},
   "outputs": [],
   "source": [
    "import numpy as np\n",
    "from qfinance.option_pricing import OptionPricing, OptionParams\n",
    "## define options\n",
    "myOptionParams = OptionParams(num_uncertainty_qubits=3, option_type=\"call-on-min\")\n",
    "myOptionParams.add_variable(\n",
    "    {\n",
    "    'S': 2.0,  # initial spot price\n",
    "    'vol': 0.4 , # volatility of 40%\n",
    "    \"r\": 0.05,  # annual interest rate of 4%\n",
    "    \"T\": 40 / 365 , # 40 days to maturity\n",
    "    }\n",
    ")\n",
    "myOptionParams.add_variable(\n",
    "    {\n",
    "    'S': 2.0,  # initial spot price\n",
    "    'vol': 0.4 , # volatility of 40%\n",
    "    \"r\": 0.05,  # annual interest rate of 4%\n",
    "    \"T\": 40 / 365 , # 40 days to maturity\n",
    "    }\n",
    ")\n",
    "\n",
    "correlation = 0.2\n",
    "myOptionParams.set_covariance_matrix(correlation)\n",
    "myOptionParams.set_strike_prices(1.896)\n",
    "\n",
    "myOptionPricer = OptionPricing(myOptionParams)"
   ]
  },
  {
   "cell_type": "code",
   "execution_count": 4,
   "metadata": {},
   "outputs": [
    {
     "name": "stdout",
     "output_type": "stream",
     "text": [
      "Estimated payoff: 0.26501046696295694\n",
      "Exact payoff: 0.5048406302942213\n",
      "Confidence interval: [0.22372416 0.30629678]\n"
     ]
    }
   ],
   "source": [
    "estimate, conf_int = myOptionPricer.estimate_expectation(epsilon=0.01)\n",
    "exact_expectation = myOptionPricer.compute_exact_expectation()\n",
    "print(f\"Estimated payoff: {estimate}\")\n",
    "print(f\"Exact payoff: {exact_expectation}\")\n",
    "print(f\"Confidence interval: {conf_int}\")"
   ]
  },
  {
   "cell_type": "markdown",
   "metadata": {},
   "source": [
    "# Spread Call"
   ]
  },
  {
   "cell_type": "code",
   "execution_count": 1,
   "metadata": {},
   "outputs": [],
   "source": [
    "import numpy as np\n",
    "from qfinance.option_pricing import OptionPricing, OptionParams\n",
    "## define options\n",
    "myOptionParams = OptionParams(num_uncertainty_qubits=3, option_type=\"spread call\")\n",
    "myOptionParams.add_variable(\n",
    "    {\n",
    "    'S': 0.5,  \n",
    "    'vol': 0.5 , \n",
    "    \"r\": 0.04,  \n",
    "    \"T\": 40 / 365 , \n",
    "    }\n",
    ")\n",
    "myOptionParams.add_variable(\n",
    "    {\n",
    "    'S': 0.5,  \n",
    "    'vol': 0.5 , \n",
    "    \"r\": 0.04,  \n",
    "    \"T\": 40 / 365 , \n",
    "    }\n",
    ")\n",
    "\n",
    "correlation = 0.2\n",
    "myOptionParams.set_covariance_matrix(correlation)\n",
    "myOptionParams.set_strike_prices(0.08)\n",
    "\n",
    "myOptionPricer = OptionPricing(myOptionParams)"
   ]
  },
  {
   "cell_type": "code",
   "execution_count": 2,
   "metadata": {},
   "outputs": [
    {
     "name": "stdout",
     "output_type": "stream",
     "text": [
      "Estimated payoff: 0.03608231183702158\n",
      "Exact payoff: 0.045862734626276075\n",
      "Confidence interval: [0.01544459 0.05672003]\n"
     ]
    }
   ],
   "source": [
    "estimate, conf_int = myOptionPricer.estimate_expectation(epsilon=0.01)\n",
    "exact_expectation = myOptionPricer.compute_exact_expectation()\n",
    "print(f\"Estimated payoff: {estimate}\")\n",
    "print(f\"Exact payoff: {exact_expectation}\")\n",
    "print(f\"Confidence interval: {conf_int}\")"
   ]
  }
 ],
 "metadata": {
  "kernelspec": {
   "display_name": "qfinance",
   "language": "python",
   "name": "python3"
  },
  "language_info": {
   "codemirror_mode": {
    "name": "ipython",
    "version": 3
   },
   "file_extension": ".py",
   "mimetype": "text/x-python",
   "name": "python",
   "nbconvert_exporter": "python",
   "pygments_lexer": "ipython3",
   "version": "3.11.7"
  }
 },
 "nbformat": 4,
 "nbformat_minor": 2
}
